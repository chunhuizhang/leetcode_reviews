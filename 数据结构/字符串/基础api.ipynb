{
 "cells": [
  {
   "cell_type": "code",
   "execution_count": 2,
   "id": "fff6e339",
   "metadata": {
    "ExecuteTime": {
     "end_time": "2023-09-04T14:47:51.536379Z",
     "start_time": "2023-09-04T14:47:51.529868Z"
    }
   },
   "outputs": [],
   "source": [
    "from typing import List"
   ]
  },
  {
   "cell_type": "markdown",
   "id": "63867130",
   "metadata": {},
   "source": [
    "## `s.count`"
   ]
  },
  {
   "cell_type": "code",
   "execution_count": 1,
   "id": "0c2503c4",
   "metadata": {
    "ExecuteTime": {
     "end_time": "2023-09-04T14:47:43.147008Z",
     "start_time": "2023-09-04T14:47:43.132490Z"
    }
   },
   "outputs": [],
   "source": [
    "class Solution:\n",
    "    def checkRecord(self, s: str) -> bool:\n",
    "        return s.count('A') < 2 and 'LLL' not in s"
   ]
  },
  {
   "cell_type": "code",
   "execution_count": 14,
   "id": "8392abfd",
   "metadata": {
    "ExecuteTime": {
     "end_time": "2023-09-04T14:50:13.099392Z",
     "start_time": "2023-09-04T14:50:13.093141Z"
    }
   },
   "outputs": [
    {
     "name": "stdout",
     "output_type": "stream",
     "text": [
      "1\n",
      "2\n",
      "1\n"
     ]
    }
   ],
   "source": [
    "# 注意 s.count()\n",
    "# Return the number of non-overlapping occurrences of substring sub in string S[start:end]. \n",
    "print('aaa'.count('aa'))\n",
    "print('aaaa'.count('aa'))\n",
    "print('aaaa'.count('aaa'))"
   ]
  }
 ],
 "metadata": {
  "kernelspec": {
   "display_name": "Python 3 (ipykernel)",
   "language": "python",
   "name": "python3"
  },
  "language_info": {
   "codemirror_mode": {
    "name": "ipython",
    "version": 3
   },
   "file_extension": ".py",
   "mimetype": "text/x-python",
   "name": "python",
   "nbconvert_exporter": "python",
   "pygments_lexer": "ipython3",
   "version": "3.10.9"
  },
  "toc": {
   "base_numbering": 1,
   "nav_menu": {},
   "number_sections": true,
   "sideBar": true,
   "skip_h1_title": false,
   "title_cell": "Table of Contents",
   "title_sidebar": "Contents",
   "toc_cell": false,
   "toc_position": {},
   "toc_section_display": true,
   "toc_window_display": false
  }
 },
 "nbformat": 4,
 "nbformat_minor": 5
}
