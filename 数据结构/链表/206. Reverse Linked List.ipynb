{
 "cells": [
  {
   "cell_type": "code",
   "execution_count": 3,
   "id": "de2e6c4d",
   "metadata": {
    "ExecuteTime": {
     "end_time": "2023-12-03T03:18:06.594820Z",
     "start_time": "2023-12-03T03:18:06.591390Z"
    }
   },
   "outputs": [],
   "source": [
    "from typing import Optional"
   ]
  },
  {
   "cell_type": "code",
   "execution_count": 1,
   "id": "30c080b1",
   "metadata": {
    "ExecuteTime": {
     "end_time": "2023-12-03T03:17:11.410708Z",
     "start_time": "2023-12-03T03:17:11.399642Z"
    }
   },
   "outputs": [],
   "source": [
    "class ListNode:\n",
    "    def __init__(self, val=0, next=None):\n",
    "        self.val = val\n",
    "        self.next = next"
   ]
  },
  {
   "cell_type": "markdown",
   "id": "0fb7c65e",
   "metadata": {},
   "source": [
    "## 分析"
   ]
  },
  {
   "cell_type": "markdown",
   "id": "d744e849",
   "metadata": {},
   "source": [
    "- $1\\rightarrow 2\\rightarrow 3\\rightarrow \\emptyset$\n",
    "- $\\emptyset\\leftarrow 1\\leftarrow 2\\leftarrow 3$"
   ]
  },
  {
   "cell_type": "code",
   "execution_count": 4,
   "id": "67286795",
   "metadata": {
    "ExecuteTime": {
     "end_time": "2023-12-03T03:18:07.936315Z",
     "start_time": "2023-12-03T03:18:07.931002Z"
    }
   },
   "outputs": [],
   "source": [
    "class Solution:\n",
    "    def reverseList(self, head: Optional[ListNode]) -> Optional[ListNode]:\n",
    "        prev = None\n",
    "        cur = head\n",
    "        while cur != None:\n",
    "            next = cur.next\n",
    "            cur.next = prev \n",
    "            prev = cur\n",
    "            cur = next\n",
    "        return prev"
   ]
  },
  {
   "cell_type": "code",
   "execution_count": 5,
   "id": "a9544b0e",
   "metadata": {
    "ExecuteTime": {
     "end_time": "2023-12-03T03:18:47.304058Z",
     "start_time": "2023-12-03T03:18:47.300459Z"
    }
   },
   "outputs": [],
   "source": [
    "l1 = ListNode(1)\n",
    "n2 = ListNode(2)\n",
    "n3 = ListNode(3)"
   ]
  },
  {
   "cell_type": "code",
   "execution_count": 6,
   "id": "2ad45145",
   "metadata": {
    "ExecuteTime": {
     "end_time": "2023-12-03T03:19:01.690850Z",
     "start_time": "2023-12-03T03:19:01.685765Z"
    }
   },
   "outputs": [],
   "source": [
    "l1.next = n2\n",
    "n2.next = n3"
   ]
  },
  {
   "cell_type": "code",
   "execution_count": 7,
   "id": "1a6cd108",
   "metadata": {
    "ExecuteTime": {
     "end_time": "2023-12-03T03:19:25.777427Z",
     "start_time": "2023-12-03T03:19:25.772194Z"
    }
   },
   "outputs": [],
   "source": [
    "n3 = ListNode(3)\n",
    "n2 = ListNode(2, n3)\n",
    "n1 = ListNode(1, n2)"
   ]
  },
  {
   "cell_type": "code",
   "execution_count": 8,
   "id": "6d039b03",
   "metadata": {
    "ExecuteTime": {
     "end_time": "2023-12-03T03:19:28.831439Z",
     "start_time": "2023-12-03T03:19:28.818988Z"
    }
   },
   "outputs": [
    {
     "data": {
      "text/plain": [
       "<__main__.ListNode at 0x7fd08b1beef0>"
      ]
     },
     "execution_count": 8,
     "metadata": {},
     "output_type": "execute_result"
    }
   ],
   "source": [
    "n1"
   ]
  },
  {
   "cell_type": "code",
   "execution_count": null,
   "id": "61a01c8a",
   "metadata": {},
   "outputs": [],
   "source": []
  }
 ],
 "metadata": {
  "kernelspec": {
   "display_name": "Python 3 (ipykernel)",
   "language": "python",
   "name": "python3"
  },
  "language_info": {
   "codemirror_mode": {
    "name": "ipython",
    "version": 3
   },
   "file_extension": ".py",
   "mimetype": "text/x-python",
   "name": "python",
   "nbconvert_exporter": "python",
   "pygments_lexer": "ipython3",
   "version": "3.10.13"
  },
  "toc": {
   "base_numbering": 1,
   "nav_menu": {},
   "number_sections": true,
   "sideBar": true,
   "skip_h1_title": false,
   "title_cell": "Table of Contents",
   "title_sidebar": "Contents",
   "toc_cell": false,
   "toc_position": {},
   "toc_section_display": true,
   "toc_window_display": false
  }
 },
 "nbformat": 4,
 "nbformat_minor": 5
}
