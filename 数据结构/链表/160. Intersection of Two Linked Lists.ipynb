{
 "cells": [
  {
   "cell_type": "markdown",
   "id": "6974e35a",
   "metadata": {},
   "source": [
    "- 即判断，两链表是否有公共节点（指的是内存相同）\n",
    "    - 公共节点的特点，其前一个节点未必一样，但后一个一定也相同\n",
    "- 如果两链表存在公共节点，则从公共节点开始一定汇为同一个链表"
   ]
  },
  {
   "cell_type": "code",
   "execution_count": 2,
   "id": "79851d37",
   "metadata": {
    "ExecuteTime": {
     "end_time": "2023-10-08T14:29:37.364132Z",
     "start_time": "2023-10-08T14:29:37.359050Z"
    }
   },
   "outputs": [],
   "source": [
    "class ListNode:\n",
    "    def __init__(self, x):\n",
    "        self.val = x\n",
    "        self.next = None"
   ]
  },
  {
   "cell_type": "code",
   "execution_count": 1,
   "id": "beb7a9bd",
   "metadata": {
    "ExecuteTime": {
     "end_time": "2023-10-08T14:29:26.286401Z",
     "start_time": "2023-10-08T14:29:26.278113Z"
    }
   },
   "outputs": [],
   "source": [
    "from typing import Optional"
   ]
  },
  {
   "cell_type": "code",
   "execution_count": 3,
   "id": "70cd6450",
   "metadata": {
    "ExecuteTime": {
     "end_time": "2023-10-08T14:29:39.228223Z",
     "start_time": "2023-10-08T14:29:39.219752Z"
    }
   },
   "outputs": [],
   "source": [
    "class Solution:\n",
    "    def getIntersectionNode(self, headA: ListNode, headB: ListNode) -> Optional[ListNode]:\n",
    "        if headA is None or headB is None:\n",
    "            return None\n",
    "        a, b = headA, headB\n",
    "        while a != b:\n",
    "            a = a.next if a is not None else headB\n",
    "            b = b.next if b is not None else headA\n",
    "        return a"
   ]
  }
 ],
 "metadata": {
  "kernelspec": {
   "display_name": "Python 3 (ipykernel)",
   "language": "python",
   "name": "python3"
  },
  "language_info": {
   "codemirror_mode": {
    "name": "ipython",
    "version": 3
   },
   "file_extension": ".py",
   "mimetype": "text/x-python",
   "name": "python",
   "nbconvert_exporter": "python",
   "pygments_lexer": "ipython3",
   "version": "3.10.9"
  },
  "toc": {
   "base_numbering": 1,
   "nav_menu": {},
   "number_sections": true,
   "sideBar": true,
   "skip_h1_title": false,
   "title_cell": "Table of Contents",
   "title_sidebar": "Contents",
   "toc_cell": false,
   "toc_position": {},
   "toc_section_display": true,
   "toc_window_display": false
  }
 },
 "nbformat": 4,
 "nbformat_minor": 5
}
