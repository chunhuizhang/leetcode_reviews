{
 "cells": [
  {
   "cell_type": "code",
   "execution_count": 1,
   "id": "372060c1",
   "metadata": {
    "ExecuteTime": {
     "end_time": "2023-08-31T14:43:41.216982Z",
     "start_time": "2023-08-31T14:43:41.198188Z"
    }
   },
   "outputs": [],
   "source": [
    "from typing import List"
   ]
  },
  {
   "cell_type": "markdown",
   "id": "211ab6ff",
   "metadata": {},
   "source": [
    "## basics"
   ]
  },
  {
   "cell_type": "markdown",
   "id": "69c727b9",
   "metadata": {},
   "source": [
    "- 核心是图中是否存在环\n",
    "    - 2->1->3->2\n",
    "        - `->`: \n",
    "            - 实际应用中可以表示依赖关系\n",
    "            - 也可以表示偏序关系\n",
    "                - 2>1\n",
    "                - 1>3\n",
    "                - 3>2"
   ]
  },
  {
   "cell_type": "markdown",
   "id": "218abe11",
   "metadata": {},
   "source": [
    "## 207. Course Schedule"
   ]
  },
  {
   "cell_type": "code",
   "execution_count": 21,
   "id": "2287bd7f",
   "metadata": {
    "ExecuteTime": {
     "end_time": "2023-08-31T15:00:56.959704Z",
     "start_time": "2023-08-31T15:00:56.949392Z"
    }
   },
   "outputs": [],
   "source": [
    "from collections import defaultdict, deque\n",
    "\n",
    "class Solution:\n",
    "    def canFinish(self, numCourses: int, prerequisites: List[List[int]]) -> bool:\n",
    "        indegree = [0] * numCourses\n",
    "        graph = defaultdict(list)\n",
    "        for j, i in prerequisites:\n",
    "            graph[i].append(j)\n",
    "            indegree[j] += 1\n",
    "        queue = deque([node for node in range(numCourses) if indegree[node] == 0])\n",
    "        done = []\n",
    "        while queue:\n",
    "            node = queue.popleft()\n",
    "            done.append(node)\n",
    "            for next in graph[node]:\n",
    "                indegree[next] -= 1\n",
    "                if indegree[next] == 0:\n",
    "                    queue.append(next)\n",
    "        return len(done) == numCourses or numCourses == 0\n"
   ]
  },
  {
   "cell_type": "code",
   "execution_count": 22,
   "id": "1dbb728e",
   "metadata": {
    "ExecuteTime": {
     "end_time": "2023-08-31T15:00:57.989279Z",
     "start_time": "2023-08-31T15:00:57.978676Z"
    }
   },
   "outputs": [
    {
     "name": "stdout",
     "output_type": "stream",
     "text": [
      "[0, 4, 1, 2, 3]\n"
     ]
    },
    {
     "data": {
      "text/plain": [
       "True"
      ]
     },
     "execution_count": 22,
     "metadata": {},
     "output_type": "execute_result"
    }
   ],
   "source": [
    "sln = Solution()\n",
    "sln.canFinish(5, [[1,4],[2,4],[3,1],[3,2]])"
   ]
  },
  {
   "cell_type": "markdown",
   "id": "7feb67d5",
   "metadata": {},
   "source": [
    "## preferences"
   ]
  },
  {
   "cell_type": "code",
   "execution_count": 24,
   "id": "0fdd43fe",
   "metadata": {
    "ExecuteTime": {
     "end_time": "2023-08-31T15:03:44.804858Z",
     "start_time": "2023-08-31T15:03:44.797058Z"
    }
   },
   "outputs": [],
   "source": [
    "from collections import defaultdict, deque\n",
    "\n",
    "def merge_relations(relations):\n",
    "    graph = defaultdict(list)\n",
    "    indegree = defaultdict(int)\n",
    "\n",
    "    # 创建图和入度表\n",
    "    for relation in relations:\n",
    "        a, b = relation.split(\">\")\n",
    "        graph[a].append(b)\n",
    "        indegree[b] += 1\n",
    "\n",
    "    # 找出入度为0的节点\n",
    "    queue = deque([node for node in graph if indegree[node] == 0])\n",
    "\n",
    "    result = []\n",
    "    while queue:\n",
    "        node = queue.popleft()\n",
    "        result.append(node)\n",
    "\n",
    "        for neighbor in graph[node]:\n",
    "            indegree[neighbor] -= 1\n",
    "            if indegree[neighbor] == 0:\n",
    "                queue.append(neighbor)\n",
    "\n",
    "    if len(result) != len(graph):\n",
    "        # 存在环\n",
    "        return None\n",
    "\n",
    "    return \">\".join(result)"
   ]
  },
  {
   "cell_type": "code",
   "execution_count": 27,
   "id": "6feef837",
   "metadata": {
    "ExecuteTime": {
     "end_time": "2023-08-31T15:04:16.077440Z",
     "start_time": "2023-08-31T15:04:16.070005Z"
    }
   },
   "outputs": [
    {
     "data": {
      "text/plain": [
       "'a>b>c'"
      ]
     },
     "execution_count": 27,
     "metadata": {},
     "output_type": "execute_result"
    }
   ],
   "source": [
    "merge_relations(['a>b', 'a>c', 'b>c'])"
   ]
  },
  {
   "cell_type": "code",
   "execution_count": 28,
   "id": "504d7632",
   "metadata": {
    "ExecuteTime": {
     "end_time": "2023-08-31T15:04:41.058166Z",
     "start_time": "2023-08-31T15:04:41.051635Z"
    }
   },
   "outputs": [],
   "source": [
    "merge_relations(['a>b', 'b>c', 'c>a'])"
   ]
  }
 ],
 "metadata": {
  "kernelspec": {
   "display_name": "Python 3 (ipykernel)",
   "language": "python",
   "name": "python3"
  },
  "language_info": {
   "codemirror_mode": {
    "name": "ipython",
    "version": 3
   },
   "file_extension": ".py",
   "mimetype": "text/x-python",
   "name": "python",
   "nbconvert_exporter": "python",
   "pygments_lexer": "ipython3",
   "version": "3.10.9"
  },
  "toc": {
   "base_numbering": 1,
   "nav_menu": {},
   "number_sections": true,
   "sideBar": true,
   "skip_h1_title": false,
   "title_cell": "Table of Contents",
   "title_sidebar": "Contents",
   "toc_cell": false,
   "toc_position": {},
   "toc_section_display": true,
   "toc_window_display": false
  }
 },
 "nbformat": 4,
 "nbformat_minor": 5
}
