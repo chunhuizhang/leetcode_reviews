{
 "cells": [
  {
   "cell_type": "code",
   "execution_count": 24,
   "id": "2be5d1cd",
   "metadata": {
    "ExecuteTime": {
     "end_time": "2023-12-06T14:36:44.449335Z",
     "start_time": "2023-12-06T14:36:44.445781Z"
    }
   },
   "outputs": [],
   "source": [
    "from IPython.display import Image, SVG"
   ]
  },
  {
   "cell_type": "code",
   "execution_count": 26,
   "id": "273b2d87",
   "metadata": {
    "ExecuteTime": {
     "end_time": "2023-12-06T14:37:36.737441Z",
     "start_time": "2023-12-06T14:37:36.731807Z"
    },
    "scrolled": false
   },
   "outputs": [],
   "source": [
    "# SVG(url='https://en.wikipedia.org/wiki/Josephus_problem#/media/File:Josephus_problem_41_3.svg')"
   ]
  },
  {
   "cell_type": "code",
   "execution_count": 45,
   "id": "2b624ee1",
   "metadata": {
    "ExecuteTime": {
     "end_time": "2023-12-06T15:04:41.097391Z",
     "start_time": "2023-12-06T15:04:41.090535Z"
    }
   },
   "outputs": [],
   "source": [
    "from collections import deque"
   ]
  },
  {
   "cell_type": "markdown",
   "id": "112e954c",
   "metadata": {},
   "source": [
    "## list 底层原理"
   ]
  },
  {
   "cell_type": "markdown",
   "id": "b9db8d82",
   "metadata": {},
   "source": [
    "- 非链表；使用动态数组作为其底层数据结构。这允许列表在运行时动态地调整大小。\n",
    "- Java 中的 ArrayList，C++ 中的 vector；"
   ]
  },
  {
   "cell_type": "code",
   "execution_count": 27,
   "id": "a4699e85",
   "metadata": {
    "ExecuteTime": {
     "end_time": "2023-12-06T14:40:41.614511Z",
     "start_time": "2023-12-06T14:40:41.609192Z"
    }
   },
   "outputs": [],
   "source": [
    "from time import perf_counter"
   ]
  },
  {
   "cell_type": "code",
   "execution_count": 40,
   "id": "eb77b327",
   "metadata": {
    "ExecuteTime": {
     "end_time": "2023-12-06T14:44:41.265545Z",
     "start_time": "2023-12-06T14:44:41.236949Z"
    }
   },
   "outputs": [
    {
     "data": {
      "text/plain": [
       "0.02474311483092606"
      ]
     },
     "execution_count": 40,
     "metadata": {},
     "output_type": "execute_result"
    }
   ],
   "source": [
    "t1 = perf_counter()\n",
    "l = list(range(300_000))\n",
    "while l:\n",
    "    l.pop()\n",
    "perf_counter() - t1"
   ]
  },
  {
   "cell_type": "code",
   "execution_count": 42,
   "id": "80d8f7bd",
   "metadata": {
    "ExecuteTime": {
     "end_time": "2023-12-06T14:45:16.954747Z",
     "start_time": "2023-12-06T14:45:07.562883Z"
    }
   },
   "outputs": [
    {
     "data": {
      "text/plain": [
       "9.387908525997773"
      ]
     },
     "execution_count": 42,
     "metadata": {},
     "output_type": "execute_result"
    }
   ],
   "source": [
    "t1 = perf_counter()\n",
    "l = list(range(300_000))\n",
    "while l:\n",
    "    # 这是一个非常非常耗时的操作，会随着 len(l) 的增大而呈现 n^2 的时间复杂度\n",
    "    l.pop(0)\n",
    "perf_counter() - t1"
   ]
  },
  {
   "cell_type": "code",
   "execution_count": 44,
   "id": "3c4c7ddd",
   "metadata": {
    "ExecuteTime": {
     "end_time": "2023-12-06T14:45:48.756031Z",
     "start_time": "2023-12-06T14:45:47.536699Z"
    }
   },
   "outputs": [
    {
     "data": {
      "text/plain": [
       "1.2129157409071922"
      ]
     },
     "execution_count": 44,
     "metadata": {},
     "output_type": "execute_result"
    }
   ],
   "source": [
    "t1 = perf_counter()\n",
    "l = deque(list(range(10_000_000)))\n",
    "while l:\n",
    "    l.popleft()\n",
    "perf_counter() - t1"
   ]
  },
  {
   "cell_type": "markdown",
   "id": "04d274d4",
   "metadata": {},
   "source": [
    "## list 实现"
   ]
  },
  {
   "cell_type": "code",
   "execution_count": 4,
   "id": "78937bb8",
   "metadata": {
    "ExecuteTime": {
     "end_time": "2023-12-05T15:27:41.803424Z",
     "start_time": "2023-12-05T15:27:41.796941Z"
    }
   },
   "outputs": [],
   "source": [
    "def josephus_perm(arr, k):\n",
    "    permutation = []\n",
    "    index = 0\n",
    "    while arr:\n",
    "        index = (index + k-1) % len(arr)\n",
    "        item = arr.pop(index)\n",
    "        permutation.append(item)\n",
    "    return permutation"
   ]
  },
  {
   "cell_type": "code",
   "execution_count": 8,
   "id": "9ffb076f",
   "metadata": {
    "ExecuteTime": {
     "end_time": "2023-12-05T15:28:21.067330Z",
     "start_time": "2023-12-05T15:28:21.059995Z"
    }
   },
   "outputs": [
    {
     "name": "stdout",
     "output_type": "stream",
     "text": [
      "[3, 6, 9, 12, 15, 18, 21, 24, 27, 30, 33, 36, 39, 1, 5, 10, 14, 19, 23, 28, 32, 37, 41, 7, 13, 20, 26, 34, 40, 8, 17, 29, 38, 11, 25, 2, 22, 4, 35, 16, 31]\n"
     ]
    }
   ],
   "source": [
    "print(josephus_perm(list(range(1, 42)), 3))"
   ]
  },
  {
   "cell_type": "code",
   "execution_count": 9,
   "id": "a8c963b6",
   "metadata": {
    "ExecuteTime": {
     "end_time": "2023-12-05T15:29:04.422452Z",
     "start_time": "2023-12-05T15:29:04.415716Z"
    }
   },
   "outputs": [
    {
     "name": "stdout",
     "output_type": "stream",
     "text": [
      "[3, 6, 2, 7, 5, 1, 4]\n"
     ]
    }
   ],
   "source": [
    "print(josephus_perm(list(range(1, 8)), 3))"
   ]
  },
  {
   "cell_type": "code",
   "execution_count": 10,
   "id": "5147fe38",
   "metadata": {
    "ExecuteTime": {
     "end_time": "2023-12-05T15:30:49.796033Z",
     "start_time": "2023-12-05T15:29:34.818750Z"
    }
   },
   "outputs": [
    {
     "data": {
      "text/plain": [
       "999999"
      ]
     },
     "execution_count": 10,
     "metadata": {},
     "output_type": "execute_result"
    }
   ],
   "source": [
    "# 非常耗时；1m 15.0s, \n",
    "len(josephus_perm(list(range(1, 1_000_000)), 3))"
   ]
  },
  {
   "cell_type": "markdown",
   "id": "f67de93c",
   "metadata": {},
   "source": [
    "- 耗时的原因主要在 `arr.pop`（$O(n)$），再加上外层的 while 循环，是一个 $O(n^2)$；"
   ]
  },
  {
   "cell_type": "markdown",
   "id": "b06028dc",
   "metadata": {},
   "source": [
    "## deque 实现"
   ]
  },
  {
   "cell_type": "markdown",
   "id": "aa43c79d",
   "metadata": {},
   "source": [
    "- deque\n",
    "    - 读作 deck\n",
    "    - **d**ouble **e**nded **que**ue\n",
    "    - 底层是链表实现的，而且是双向链表？？\n",
    "    - 支持 rotate 操作；"
   ]
  },
  {
   "cell_type": "code",
   "execution_count": 16,
   "id": "cdcff6f3",
   "metadata": {
    "ExecuteTime": {
     "end_time": "2023-12-05T15:40:17.941935Z",
     "start_time": "2023-12-05T15:40:17.929725Z"
    }
   },
   "outputs": [
    {
     "data": {
      "text/plain": [
       "deque([5, 1, 2, 3, 4])"
      ]
     },
     "execution_count": 16,
     "metadata": {},
     "output_type": "execute_result"
    }
   ],
   "source": [
    "dq = deque([1, 2, 3, 4, 5])\n",
    "# 向右移动\n",
    "dq.rotate(1)\n",
    "dq"
   ]
  },
  {
   "cell_type": "code",
   "execution_count": 17,
   "id": "717d48bd",
   "metadata": {
    "ExecuteTime": {
     "end_time": "2023-12-05T15:40:23.028722Z",
     "start_time": "2023-12-05T15:40:23.017696Z"
    }
   },
   "outputs": [
    {
     "data": {
      "text/plain": [
       "deque([2, 3, 4, 5, 1])"
      ]
     },
     "execution_count": 17,
     "metadata": {},
     "output_type": "execute_result"
    }
   ],
   "source": [
    "dq = deque([1, 2, 3, 4, 5])\n",
    "# 向左移动\n",
    "dq.rotate(-1)\n",
    "dq"
   ]
  },
  {
   "cell_type": "markdown",
   "id": "2e0cd78a",
   "metadata": {},
   "source": [
    "### 两端操作"
   ]
  },
  {
   "cell_type": "markdown",
   "id": "88d47061",
   "metadata": {},
   "source": [
    "- `deque.pop()`: 尾部删除；\n",
    "- `deque.popleft()`: 头部删除；"
   ]
  },
  {
   "cell_type": "markdown",
   "id": "e80a5e3b",
   "metadata": {},
   "source": [
    "### 实现 Josephus_ Permutation"
   ]
  },
  {
   "cell_type": "code",
   "execution_count": 18,
   "id": "d2f975e9",
   "metadata": {
    "ExecuteTime": {
     "end_time": "2023-12-05T15:42:50.647600Z",
     "start_time": "2023-12-05T15:42:50.642204Z"
    }
   },
   "outputs": [],
   "source": [
    "def josephus_perm(arr, k):\n",
    "    permutation = []\n",
    "    dq = deque(arr)\n",
    "    while dq:\n",
    "        dq.rotate(1-k)\n",
    "        permutation.append(dq.popleft())\n",
    "    return permutation"
   ]
  },
  {
   "cell_type": "code",
   "execution_count": 21,
   "id": "f29828f8",
   "metadata": {
    "ExecuteTime": {
     "end_time": "2023-12-05T15:43:10.105608Z",
     "start_time": "2023-12-05T15:43:10.099949Z"
    }
   },
   "outputs": [
    {
     "name": "stdout",
     "output_type": "stream",
     "text": [
      "[3, 6, 9, 12, 15, 18, 21, 24, 27, 30, 33, 36, 39, 1, 5, 10, 14, 19, 23, 28, 32, 37, 41, 7, 13, 20, 26, 34, 40, 8, 17, 29, 38, 11, 25, 2, 22, 4, 35, 16, 31]\n"
     ]
    }
   ],
   "source": [
    "print(josephus_perm(list(range(1, 42)), 3))"
   ]
  },
  {
   "cell_type": "code",
   "execution_count": 22,
   "id": "ec042d01",
   "metadata": {
    "ExecuteTime": {
     "end_time": "2023-12-05T15:43:17.850158Z",
     "start_time": "2023-12-05T15:43:17.843620Z"
    }
   },
   "outputs": [
    {
     "name": "stdout",
     "output_type": "stream",
     "text": [
      "[3, 6, 2, 7, 5, 1, 4]\n"
     ]
    }
   ],
   "source": [
    "print(josephus_perm(list(range(1, 8)), 3))"
   ]
  },
  {
   "cell_type": "code",
   "execution_count": 19,
   "id": "91c67a98",
   "metadata": {
    "ExecuteTime": {
     "end_time": "2023-12-05T15:42:56.195966Z",
     "start_time": "2023-12-05T15:42:55.937962Z"
    }
   },
   "outputs": [
    {
     "data": {
      "text/plain": [
       "999999"
      ]
     },
     "execution_count": 19,
     "metadata": {},
     "output_type": "execute_result"
    }
   ],
   "source": [
    "len(josephus_perm(list(range(1, 1_000_000)), 3))"
   ]
  },
  {
   "cell_type": "code",
   "execution_count": null,
   "id": "9976a944",
   "metadata": {},
   "outputs": [],
   "source": []
  }
 ],
 "metadata": {
  "kernelspec": {
   "display_name": "Python 3 (ipykernel)",
   "language": "python",
   "name": "python3"
  },
  "language_info": {
   "codemirror_mode": {
    "name": "ipython",
    "version": 3
   },
   "file_extension": ".py",
   "mimetype": "text/x-python",
   "name": "python",
   "nbconvert_exporter": "python",
   "pygments_lexer": "ipython3",
   "version": "3.10.13"
  },
  "toc": {
   "base_numbering": 1,
   "nav_menu": {},
   "number_sections": true,
   "sideBar": true,
   "skip_h1_title": false,
   "title_cell": "Table of Contents",
   "title_sidebar": "Contents",
   "toc_cell": false,
   "toc_position": {},
   "toc_section_display": true,
   "toc_window_display": false
  }
 },
 "nbformat": 4,
 "nbformat_minor": 5
}
