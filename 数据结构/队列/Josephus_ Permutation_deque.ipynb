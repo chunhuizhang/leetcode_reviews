{
 "cells": [
  {
   "cell_type": "markdown",
   "id": "d5807e71",
   "metadata": {},
   "source": [
    "## list 实现"
   ]
  },
  {
   "cell_type": "code",
   "execution_count": 4,
   "id": "ad4186c7",
   "metadata": {
    "ExecuteTime": {
     "end_time": "2023-12-05T15:27:41.803424Z",
     "start_time": "2023-12-05T15:27:41.796941Z"
    }
   },
   "outputs": [],
   "source": [
    "def josephus_perm(arr, k):\n",
    "    permutation = []\n",
    "    index = 0\n",
    "    while arr:\n",
    "        index = (index + k-1) % len(arr)\n",
    "        item = arr.pop(index)\n",
    "        permutation.append(item)\n",
    "    return permutation"
   ]
  },
  {
   "cell_type": "code",
   "execution_count": 8,
   "id": "b15c2289",
   "metadata": {
    "ExecuteTime": {
     "end_time": "2023-12-05T15:28:21.067330Z",
     "start_time": "2023-12-05T15:28:21.059995Z"
    }
   },
   "outputs": [
    {
     "name": "stdout",
     "output_type": "stream",
     "text": [
      "[3, 6, 9, 12, 15, 18, 21, 24, 27, 30, 33, 36, 39, 1, 5, 10, 14, 19, 23, 28, 32, 37, 41, 7, 13, 20, 26, 34, 40, 8, 17, 29, 38, 11, 25, 2, 22, 4, 35, 16, 31]\n"
     ]
    }
   ],
   "source": [
    "print(josephus_perm(list(range(1, 42)), 3))"
   ]
  },
  {
   "cell_type": "code",
   "execution_count": 9,
   "id": "c9574720",
   "metadata": {
    "ExecuteTime": {
     "end_time": "2023-12-05T15:29:04.422452Z",
     "start_time": "2023-12-05T15:29:04.415716Z"
    }
   },
   "outputs": [
    {
     "name": "stdout",
     "output_type": "stream",
     "text": [
      "[3, 6, 2, 7, 5, 1, 4]\n"
     ]
    }
   ],
   "source": [
    "print(josephus_perm(list(range(1, 8)), 3))"
   ]
  },
  {
   "cell_type": "code",
   "execution_count": 10,
   "id": "693db41e",
   "metadata": {
    "ExecuteTime": {
     "end_time": "2023-12-05T15:30:49.796033Z",
     "start_time": "2023-12-05T15:29:34.818750Z"
    }
   },
   "outputs": [
    {
     "data": {
      "text/plain": [
       "999999"
      ]
     },
     "execution_count": 10,
     "metadata": {},
     "output_type": "execute_result"
    }
   ],
   "source": [
    "# 非常耗时；1m 15.0s, \n",
    "len(josephus_perm(list(range(1, 1_000_000)), 3))"
   ]
  },
  {
   "cell_type": "markdown",
   "id": "d76b956c",
   "metadata": {},
   "source": [
    "- 耗时的原因主要在 `arr.pop`（$O(n)$），再加上外层的 while 循环，是一个 $O(n^2)$；"
   ]
  },
  {
   "cell_type": "markdown",
   "id": "e9506756",
   "metadata": {},
   "source": [
    "## deque 实现"
   ]
  },
  {
   "cell_type": "code",
   "execution_count": 11,
   "id": "862052a4",
   "metadata": {
    "ExecuteTime": {
     "end_time": "2023-12-05T15:39:39.960533Z",
     "start_time": "2023-12-05T15:39:39.954886Z"
    }
   },
   "outputs": [],
   "source": [
    "from collections import deque"
   ]
  },
  {
   "cell_type": "markdown",
   "id": "ad433f0f",
   "metadata": {},
   "source": [
    "- deque\n",
    "    - 读作 deck\n",
    "    - **d**ouble **e**nded **que**ue\n",
    "    - 底层是链表实现的，而且是双向链表？？\n",
    "    - 支持 rotate 操作；"
   ]
  },
  {
   "cell_type": "code",
   "execution_count": 16,
   "id": "08b51b02",
   "metadata": {
    "ExecuteTime": {
     "end_time": "2023-12-05T15:40:17.941935Z",
     "start_time": "2023-12-05T15:40:17.929725Z"
    }
   },
   "outputs": [
    {
     "data": {
      "text/plain": [
       "deque([5, 1, 2, 3, 4])"
      ]
     },
     "execution_count": 16,
     "metadata": {},
     "output_type": "execute_result"
    }
   ],
   "source": [
    "dq = deque([1, 2, 3, 4, 5])\n",
    "# 向右移动\n",
    "dq.rotate(1)\n",
    "dq"
   ]
  },
  {
   "cell_type": "code",
   "execution_count": 17,
   "id": "89a53009",
   "metadata": {
    "ExecuteTime": {
     "end_time": "2023-12-05T15:40:23.028722Z",
     "start_time": "2023-12-05T15:40:23.017696Z"
    }
   },
   "outputs": [
    {
     "data": {
      "text/plain": [
       "deque([2, 3, 4, 5, 1])"
      ]
     },
     "execution_count": 17,
     "metadata": {},
     "output_type": "execute_result"
    }
   ],
   "source": [
    "dq = deque([1, 2, 3, 4, 5])\n",
    "# 向左移动\n",
    "dq.rotate(-1)\n",
    "dq"
   ]
  },
  {
   "cell_type": "markdown",
   "id": "b8b7facb",
   "metadata": {},
   "source": [
    "### 两端操作"
   ]
  },
  {
   "cell_type": "markdown",
   "id": "7bb4af65",
   "metadata": {},
   "source": [
    "- `deque.popleft()`"
   ]
  },
  {
   "cell_type": "markdown",
   "id": "a8f75f75",
   "metadata": {},
   "source": [
    "### 实现 Josephus_ Permutation"
   ]
  },
  {
   "cell_type": "code",
   "execution_count": 18,
   "id": "30002704",
   "metadata": {
    "ExecuteTime": {
     "end_time": "2023-12-05T15:42:50.647600Z",
     "start_time": "2023-12-05T15:42:50.642204Z"
    }
   },
   "outputs": [],
   "source": [
    "def josephus_perm(arr, k):\n",
    "    permutation = []\n",
    "    dq = deque(arr)\n",
    "    while dq:\n",
    "        dq.rotate(1-k)\n",
    "        permutation.append(dq.popleft())\n",
    "    return permutation"
   ]
  },
  {
   "cell_type": "code",
   "execution_count": 21,
   "id": "7d4e7da7",
   "metadata": {
    "ExecuteTime": {
     "end_time": "2023-12-05T15:43:10.105608Z",
     "start_time": "2023-12-05T15:43:10.099949Z"
    }
   },
   "outputs": [
    {
     "name": "stdout",
     "output_type": "stream",
     "text": [
      "[3, 6, 9, 12, 15, 18, 21, 24, 27, 30, 33, 36, 39, 1, 5, 10, 14, 19, 23, 28, 32, 37, 41, 7, 13, 20, 26, 34, 40, 8, 17, 29, 38, 11, 25, 2, 22, 4, 35, 16, 31]\n"
     ]
    }
   ],
   "source": [
    "print(josephus_perm(list(range(1, 42)), 3))"
   ]
  },
  {
   "cell_type": "code",
   "execution_count": 22,
   "id": "0f56acc1",
   "metadata": {
    "ExecuteTime": {
     "end_time": "2023-12-05T15:43:17.850158Z",
     "start_time": "2023-12-05T15:43:17.843620Z"
    }
   },
   "outputs": [
    {
     "name": "stdout",
     "output_type": "stream",
     "text": [
      "[3, 6, 2, 7, 5, 1, 4]\n"
     ]
    }
   ],
   "source": [
    "print(josephus_perm(list(range(1, 8)), 3))"
   ]
  },
  {
   "cell_type": "code",
   "execution_count": 19,
   "id": "68fe57f5",
   "metadata": {
    "ExecuteTime": {
     "end_time": "2023-12-05T15:42:56.195966Z",
     "start_time": "2023-12-05T15:42:55.937962Z"
    }
   },
   "outputs": [
    {
     "data": {
      "text/plain": [
       "999999"
      ]
     },
     "execution_count": 19,
     "metadata": {},
     "output_type": "execute_result"
    }
   ],
   "source": [
    "len(josephus_perm(list(range(1, 1_000_000)), 3))"
   ]
  },
  {
   "cell_type": "code",
   "execution_count": null,
   "id": "1bf678e4",
   "metadata": {},
   "outputs": [],
   "source": []
  }
 ],
 "metadata": {
  "kernelspec": {
   "display_name": "Python 3 (ipykernel)",
   "language": "python",
   "name": "python3"
  },
  "language_info": {
   "codemirror_mode": {
    "name": "ipython",
    "version": 3
   },
   "file_extension": ".py",
   "mimetype": "text/x-python",
   "name": "python",
   "nbconvert_exporter": "python",
   "pygments_lexer": "ipython3",
   "version": "3.10.13"
  },
  "toc": {
   "base_numbering": 1,
   "nav_menu": {},
   "number_sections": true,
   "sideBar": true,
   "skip_h1_title": false,
   "title_cell": "Table of Contents",
   "title_sidebar": "Contents",
   "toc_cell": false,
   "toc_position": {},
   "toc_section_display": true,
   "toc_window_display": false
  }
 },
 "nbformat": 4,
 "nbformat_minor": 5
}
