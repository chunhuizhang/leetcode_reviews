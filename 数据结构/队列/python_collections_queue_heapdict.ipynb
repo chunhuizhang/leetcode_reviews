{
 "cells": [
  {
   "cell_type": "markdown",
   "id": "bb3b4daa",
   "metadata": {},
   "source": [
    "## collections"
   ]
  },
  {
   "cell_type": "markdown",
   "id": "0be63b6f",
   "metadata": {},
   "source": [
    "- https://docs.python.org/3/library/collections.html"
   ]
  },
  {
   "cell_type": "markdown",
   "id": "976ed1c3",
   "metadata": {},
   "source": [
    "## queue"
   ]
  },
  {
   "cell_type": "markdown",
   "id": "959948c3",
   "metadata": {},
   "source": [
    "- https://www.educative.io/answers/what-is-the-python-priority-queue\n",
    "- https://blogboard.io/blog/knowledge/priority-queue-in-python/"
   ]
  },
  {
   "cell_type": "markdown",
   "id": "37fbc4c0",
   "metadata": {},
   "source": [
    "```\n",
    "class PriorityQueue(Queue):\n",
    "    '''Variant of Queue that retrieves open entries in priority order (lowest first).\n",
    "\n",
    "    Entries are typically tuples of the form:  (priority number, data).\n",
    "    '''\n",
    "\n",
    "    def _init(self, maxsize):\n",
    "        self.queue = []\n",
    "\n",
    "    def _qsize(self):\n",
    "        return len(self.queue)\n",
    "\n",
    "    def _put(self, item):\n",
    "        heappush(self.queue, item)\n",
    "\n",
    "    def _get(self):\n",
    "        return heappop(self.queue)\n",
    "```"
   ]
  },
  {
   "cell_type": "code",
   "execution_count": 4,
   "id": "849fc85d",
   "metadata": {
    "ExecuteTime": {
     "end_time": "2023-12-12T13:41:44.708813Z",
     "start_time": "2023-12-12T13:41:44.704367Z"
    }
   },
   "outputs": [],
   "source": [
    "from queue import Queue\n",
    "from queue import PriorityQueue"
   ]
  },
  {
   "cell_type": "code",
   "execution_count": 24,
   "id": "269dea21",
   "metadata": {
    "ExecuteTime": {
     "end_time": "2023-12-12T13:54:35.296784Z",
     "start_time": "2023-12-12T13:54:35.266165Z"
    }
   },
   "outputs": [],
   "source": [
    "PriorityQueue??"
   ]
  },
  {
   "cell_type": "code",
   "execution_count": 21,
   "id": "e5f9d734",
   "metadata": {
    "ExecuteTime": {
     "end_time": "2023-12-12T13:53:29.458035Z",
     "start_time": "2023-12-12T13:53:29.452613Z"
    }
   },
   "outputs": [],
   "source": [
    "q = PriorityQueue()\n",
    "\n",
    "q.put(4)\n",
    "q.put(2)\n",
    "q.put(5)\n",
    "q.put(1)\n",
    "q.put(3)"
   ]
  },
  {
   "cell_type": "code",
   "execution_count": 22,
   "id": "dd63f26e",
   "metadata": {
    "ExecuteTime": {
     "end_time": "2023-12-12T13:53:35.039959Z",
     "start_time": "2023-12-12T13:53:35.032016Z"
    }
   },
   "outputs": [
    {
     "name": "stdout",
     "output_type": "stream",
     "text": [
      "4 1\n",
      "3 2\n",
      "2 3\n",
      "1 4\n",
      "0 5\n"
     ]
    }
   ],
   "source": [
    "while not q.empty():\n",
    "    next_item = q.get()\n",
    "    print(q.qsize(), next_item)"
   ]
  },
  {
   "cell_type": "code",
   "execution_count": 23,
   "id": "836ef1f9",
   "metadata": {
    "ExecuteTime": {
     "end_time": "2023-12-12T13:53:44.854246Z",
     "start_time": "2023-12-12T13:53:44.846140Z"
    }
   },
   "outputs": [
    {
     "name": "stdout",
     "output_type": "stream",
     "text": [
      "4 (1, 'Code')\n",
      "3 (2, 'Play')\n",
      "2 (3, 'Study')\n",
      "1 (4, 'Read')\n",
      "0 (5, 'Write')\n"
     ]
    }
   ],
   "source": [
    "q = PriorityQueue()\n",
    "\n",
    "q.put((4, 'Read'))\n",
    "q.put((2, 'Play'))\n",
    "q.put((5, 'Write'))\n",
    "q.put((1, 'Code'))\n",
    "q.put((3, 'Study'))\n",
    "\n",
    "while not q.empty():\n",
    "    next_item = q.get()\n",
    "    print(q.qsize(), next_item)"
   ]
  },
  {
   "cell_type": "markdown",
   "id": "9a5f1239",
   "metadata": {},
   "source": [
    "## heapdict"
   ]
  },
  {
   "cell_type": "markdown",
   "id": "ef8abbb2",
   "metadata": {},
   "source": [
    "- peekitem(self) – D.peekitem() -> (k, v), return the (key, value) pair with lowest value; but raise KeyError if D is empty.\n",
    "- popitem(self) – D.popitem() -> (k, v), remove and return the (key, value) pair with lowest value; but raise KeyError if D is empty."
   ]
  },
  {
   "cell_type": "code",
   "execution_count": 7,
   "id": "335e07c8",
   "metadata": {
    "ExecuteTime": {
     "end_time": "2023-12-12T13:46:53.139582Z",
     "start_time": "2023-12-12T13:46:53.134444Z"
    }
   },
   "outputs": [],
   "source": [
    "#!pip install heapdict"
   ]
  },
  {
   "cell_type": "code",
   "execution_count": 8,
   "id": "e06b2c7b",
   "metadata": {
    "ExecuteTime": {
     "end_time": "2023-12-12T13:46:54.197166Z",
     "start_time": "2023-12-12T13:46:54.188105Z"
    }
   },
   "outputs": [],
   "source": [
    "import heapdict "
   ]
  },
  {
   "cell_type": "code",
   "execution_count": 9,
   "id": "ce8a7733",
   "metadata": {
    "ExecuteTime": {
     "end_time": "2023-12-12T13:46:56.246921Z",
     "start_time": "2023-12-12T13:46:56.241339Z"
    }
   },
   "outputs": [],
   "source": [
    "h = heapdict.heapdict() \n",
    "  \n",
    "# Adding pairs into heapdict \n",
    "h['g']= 2\n",
    "h['e']= 1\n",
    "h['k']= 3\n",
    "h['s']= 4"
   ]
  },
  {
   "cell_type": "code",
   "execution_count": 10,
   "id": "98f905db",
   "metadata": {
    "ExecuteTime": {
     "end_time": "2023-12-12T13:47:03.800483Z",
     "start_time": "2023-12-12T13:47:03.791203Z"
    }
   },
   "outputs": [
    {
     "data": {
      "text/plain": [
       "('e', 1)"
      ]
     },
     "execution_count": 10,
     "metadata": {},
     "output_type": "execute_result"
    }
   ],
   "source": [
    "h.peekitem()"
   ]
  },
  {
   "cell_type": "code",
   "execution_count": 12,
   "id": "0774fa7e",
   "metadata": {
    "ExecuteTime": {
     "end_time": "2023-12-12T13:47:32.771844Z",
     "start_time": "2023-12-12T13:47:32.764552Z"
    }
   },
   "outputs": [],
   "source": [
    "h = heapdict.heapdict() \n",
    "  \n",
    "# Adding pairs into heapdict \n",
    "h['g'] = 2\n",
    "h['e'] = 1\n",
    "h['d'] = 1\n",
    "h['k'] = 3\n",
    "h['s'] = 4"
   ]
  },
  {
   "cell_type": "code",
   "execution_count": 13,
   "id": "0feaa374",
   "metadata": {
    "ExecuteTime": {
     "end_time": "2023-12-12T13:47:36.902853Z",
     "start_time": "2023-12-12T13:47:36.892084Z"
    }
   },
   "outputs": [
    {
     "data": {
      "text/plain": [
       "('d', 1)"
      ]
     },
     "execution_count": 13,
     "metadata": {},
     "output_type": "execute_result"
    }
   ],
   "source": [
    "h.peekitem()"
   ]
  }
 ],
 "metadata": {
  "kernelspec": {
   "display_name": "Python 3 (ipykernel)",
   "language": "python",
   "name": "python3"
  },
  "language_info": {
   "codemirror_mode": {
    "name": "ipython",
    "version": 3
   },
   "file_extension": ".py",
   "mimetype": "text/x-python",
   "name": "python",
   "nbconvert_exporter": "python",
   "pygments_lexer": "ipython3",
   "version": "3.10.13"
  },
  "toc": {
   "base_numbering": 1,
   "nav_menu": {},
   "number_sections": true,
   "sideBar": true,
   "skip_h1_title": false,
   "title_cell": "Table of Contents",
   "title_sidebar": "Contents",
   "toc_cell": false,
   "toc_position": {},
   "toc_section_display": true,
   "toc_window_display": false
  }
 },
 "nbformat": 4,
 "nbformat_minor": 5
}
