{
 "cells": [
  {
   "cell_type": "code",
   "execution_count": 2,
   "id": "7e6e5750",
   "metadata": {
    "ExecuteTime": {
     "end_time": "2023-10-07T13:41:40.646792Z",
     "start_time": "2023-10-07T13:41:40.642304Z"
    }
   },
   "outputs": [],
   "source": [
    "from typing import List"
   ]
  },
  {
   "cell_type": "markdown",
   "id": "4ae147d7",
   "metadata": {},
   "source": [
    "## transpose"
   ]
  },
  {
   "cell_type": "markdown",
   "id": "63a2b5b7",
   "metadata": {},
   "source": [
    "```\n",
    "# Finds transpose of A[][] in-place\n",
    "def transpose(A):\n",
    "    N = len(A[0])\n",
    "    for i in range(N):\n",
    "        for j in range(i+1, N):\n",
    "            A[i][j], A[j][i] = A[j][i], A[i][j]\n",
    "```"
   ]
  },
  {
   "cell_type": "markdown",
   "id": "8e89a0bd",
   "metadata": {},
   "source": [
    "## 48. Rotate Image"
   ]
  },
  {
   "cell_type": "markdown",
   "id": "0a7f863d",
   "metadata": {
    "ExecuteTime": {
     "end_time": "2023-10-07T13:41:31.657690Z",
     "start_time": "2023-10-07T13:41:31.641503Z"
    }
   },
   "source": [
    "- 顺时针（clockwise）旋转 90°；\n",
    "\n",
    "```\n",
    "/*\n",
    " * clockwise rotate\n",
    " * first reverse up to down, then swap the symmetry (transpose)\n",
    " * 1 2 3     7 8 9     7 4 1\n",
    " * 4 5 6  => 4 5 6  => 8 5 2\n",
    " * 7 8 9     1 2 3     9 6 3\n",
    "*/\n",
    "```\n"
   ]
  },
  {
   "cell_type": "code",
   "execution_count": null,
   "id": "f5720d7e",
   "metadata": {},
   "outputs": [],
   "source": [
    "class Solution:\n",
    "    def rotate(self, matrix: List[List[int]]) -> None:\n",
    "        \"\"\"\n",
    "        Do not return anything, modify matrix in-place instead.\n",
    "        \"\"\"\n",
    "        s, e = 0, len(matrix)-1\n",
    "        while (s < e):\n",
    "            matrix[s], matrix[e] = matrix[e], matrix[s]\n",
    "            s += 1\n",
    "            e -= 1\n",
    "        \n",
    "        N = len(matrix[0])\n",
    "        for i in range(N):\n",
    "            for j in range(i+1, N):\n",
    "                matrix[i][j], matrix[j][i] = matrix[j][i], matrix[i][j]"
   ]
  },
  {
   "cell_type": "markdown",
   "id": "649a61e5",
   "metadata": {},
   "source": [
    "```\n",
    "/*\n",
    " * anticlockwise rotate\n",
    " * first reverse left to right, then swap the symmetry\n",
    " * 1 2 3     3 2 1     3 6 9\n",
    " * 4 5 6  => 6 5 4  => 2 5 8\n",
    " * 7 8 9     9 8 7     1 4 7\n",
    "*/\n",
    "```"
   ]
  }
 ],
 "metadata": {
  "kernelspec": {
   "display_name": "Python 3 (ipykernel)",
   "language": "python",
   "name": "python3"
  },
  "language_info": {
   "codemirror_mode": {
    "name": "ipython",
    "version": 3
   },
   "file_extension": ".py",
   "mimetype": "text/x-python",
   "name": "python",
   "nbconvert_exporter": "python",
   "pygments_lexer": "ipython3",
   "version": "3.10.9"
  },
  "toc": {
   "base_numbering": 1,
   "nav_menu": {},
   "number_sections": true,
   "sideBar": true,
   "skip_h1_title": false,
   "title_cell": "Table of Contents",
   "title_sidebar": "Contents",
   "toc_cell": false,
   "toc_position": {},
   "toc_section_display": true,
   "toc_window_display": false
  }
 },
 "nbformat": 4,
 "nbformat_minor": 5
}
