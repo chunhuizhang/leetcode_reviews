{
 "cells": [
  {
   "cell_type": "code",
   "execution_count": 3,
   "id": "7e6e5750",
   "metadata": {
    "ExecuteTime": {
     "end_time": "2023-10-08T13:43:53.267602Z",
     "start_time": "2023-10-08T13:43:53.264409Z"
    }
   },
   "outputs": [],
   "source": [
    "from typing import List"
   ]
  },
  {
   "cell_type": "markdown",
   "id": "e7fe5a95",
   "metadata": {},
   "source": [
    "## transpose"
   ]
  },
  {
   "cell_type": "code",
   "execution_count": 41,
   "id": "9c4f1155",
   "metadata": {
    "ExecuteTime": {
     "end_time": "2023-10-08T14:04:01.952670Z",
     "start_time": "2023-10-08T14:04:01.947790Z"
    }
   },
   "outputs": [
    {
     "data": {
      "text/plain": [
       "[(0, 3), (1, 4), (2, 5)]"
      ]
     },
     "execution_count": 41,
     "metadata": {},
     "output_type": "execute_result"
    }
   ],
   "source": [
    "l = [[0, 1, 2], [3, 4, 5]]\n",
    "list(zip(*l))"
   ]
  },
  {
   "cell_type": "markdown",
   "id": "dcfa2992",
   "metadata": {},
   "source": [
    "## reverse"
   ]
  },
  {
   "cell_type": "markdown",
   "id": "8268f29f",
   "metadata": {},
   "source": [
    "### 拷贝与引用"
   ]
  },
  {
   "cell_type": "markdown",
   "id": "0f537700",
   "metadata": {},
   "source": [
    "#### 拷贝"
   ]
  },
  {
   "cell_type": "code",
   "execution_count": 29,
   "id": "8eb8e9b1",
   "metadata": {
    "ExecuteTime": {
     "end_time": "2023-10-08T13:59:40.322014Z",
     "start_time": "2023-10-08T13:59:40.318285Z"
    }
   },
   "outputs": [],
   "source": [
    "l = [1, 2, 3]"
   ]
  },
  {
   "cell_type": "code",
   "execution_count": 35,
   "id": "036cfc6f",
   "metadata": {
    "ExecuteTime": {
     "end_time": "2023-10-08T14:02:18.228173Z",
     "start_time": "2023-10-08T14:02:18.220453Z"
    }
   },
   "outputs": [
    {
     "data": {
      "text/plain": [
       "[3, 2, 1]"
      ]
     },
     "execution_count": 35,
     "metadata": {},
     "output_type": "execute_result"
    }
   ],
   "source": [
    "# slice and return a copy\n",
    "# 浅拷贝\n",
    "l2 = l[::-1]\n",
    "l2"
   ]
  },
  {
   "cell_type": "code",
   "execution_count": 32,
   "id": "4f7ff4f2",
   "metadata": {
    "ExecuteTime": {
     "end_time": "2023-10-08T13:59:54.734484Z",
     "start_time": "2023-10-08T13:59:54.728765Z"
    }
   },
   "outputs": [
    {
     "data": {
      "text/plain": [
       "[4, 2, 1]"
      ]
     },
     "execution_count": 32,
     "metadata": {},
     "output_type": "execute_result"
    }
   ],
   "source": [
    "l2[0] = 4\n",
    "l2"
   ]
  },
  {
   "cell_type": "code",
   "execution_count": 34,
   "id": "e464f0fd",
   "metadata": {
    "ExecuteTime": {
     "end_time": "2023-10-08T13:59:59.933332Z",
     "start_time": "2023-10-08T13:59:59.928846Z"
    }
   },
   "outputs": [
    {
     "data": {
      "text/plain": [
       "[1, 2, 3]"
      ]
     },
     "execution_count": 34,
     "metadata": {},
     "output_type": "execute_result"
    }
   ],
   "source": [
    "l"
   ]
  },
  {
   "cell_type": "markdown",
   "id": "05efb1ef",
   "metadata": {},
   "source": [
    "#### 浅拷贝"
   ]
  },
  {
   "cell_type": "code",
   "execution_count": 36,
   "id": "4dfce137",
   "metadata": {
    "ExecuteTime": {
     "end_time": "2023-10-08T14:03:13.344732Z",
     "start_time": "2023-10-08T14:03:13.337515Z"
    }
   },
   "outputs": [
    {
     "data": {
      "text/plain": [
       "[[7, 8, 9], [4, 5, 6], [1, 2, 3]]"
      ]
     },
     "execution_count": 36,
     "metadata": {},
     "output_type": "execute_result"
    }
   ],
   "source": [
    "l = [[1, 2, 3], [4, 5, 6], [7, 8, 9]]\n",
    "# 浅拷贝\n",
    "l2 = l[::-1]\n",
    "l2"
   ]
  },
  {
   "cell_type": "code",
   "execution_count": 37,
   "id": "23db7cb9",
   "metadata": {
    "ExecuteTime": {
     "end_time": "2023-10-08T14:03:20.299573Z",
     "start_time": "2023-10-08T14:03:20.290222Z"
    }
   },
   "outputs": [
    {
     "data": {
      "text/plain": [
       "[[10, 8, 9], [4, 5, 6], [1, 2, 3]]"
      ]
     },
     "execution_count": 37,
     "metadata": {},
     "output_type": "execute_result"
    }
   ],
   "source": [
    "l2[0][0] = 10\n",
    "l2"
   ]
  },
  {
   "cell_type": "code",
   "execution_count": 38,
   "id": "9f7e5a7b",
   "metadata": {
    "ExecuteTime": {
     "end_time": "2023-10-08T14:03:23.130168Z",
     "start_time": "2023-10-08T14:03:23.123422Z"
    }
   },
   "outputs": [
    {
     "data": {
      "text/plain": [
       "[[1, 2, 3], [4, 5, 6], [10, 8, 9]]"
      ]
     },
     "execution_count": 38,
     "metadata": {},
     "output_type": "execute_result"
    }
   ],
   "source": [
    "l"
   ]
  },
  {
   "cell_type": "markdown",
   "id": "8f50d046",
   "metadata": {},
   "source": [
    "### reverse up to down"
   ]
  },
  {
   "cell_type": "code",
   "execution_count": 11,
   "id": "1f16f9b7",
   "metadata": {
    "ExecuteTime": {
     "end_time": "2023-10-08T13:47:24.626398Z",
     "start_time": "2023-10-08T13:47:24.621544Z"
    }
   },
   "outputs": [],
   "source": [
    "l = [[1,2,3],[4,5,6],[7,8,9]]"
   ]
  },
  {
   "cell_type": "code",
   "execution_count": 12,
   "id": "c769d6e2",
   "metadata": {
    "ExecuteTime": {
     "end_time": "2023-10-08T13:47:29.227342Z",
     "start_time": "2023-10-08T13:47:29.221213Z"
    }
   },
   "outputs": [
    {
     "data": {
      "text/plain": [
       "[[7, 8, 9], [4, 5, 6], [1, 2, 3]]"
      ]
     },
     "execution_count": 12,
     "metadata": {},
     "output_type": "execute_result"
    }
   ],
   "source": [
    "l[::-1]"
   ]
  },
  {
   "cell_type": "code",
   "execution_count": 13,
   "id": "e7c1e067",
   "metadata": {
    "ExecuteTime": {
     "end_time": "2023-10-08T13:48:50.052418Z",
     "start_time": "2023-10-08T13:48:50.045067Z"
    }
   },
   "outputs": [],
   "source": [
    "def reverse(l: List[List[int]]):\n",
    "    s, e = 0, len(l)-1\n",
    "    while s < e:\n",
    "        l[s], l[e] = l[e], l[s]\n",
    "        s += 1\n",
    "        e -= 1"
   ]
  },
  {
   "cell_type": "code",
   "execution_count": 14,
   "id": "1cda138a",
   "metadata": {
    "ExecuteTime": {
     "end_time": "2023-10-08T13:48:52.832654Z",
     "start_time": "2023-10-08T13:48:52.827619Z"
    }
   },
   "outputs": [],
   "source": [
    "reverse(l)"
   ]
  },
  {
   "cell_type": "code",
   "execution_count": 15,
   "id": "dcc10caa",
   "metadata": {
    "ExecuteTime": {
     "end_time": "2023-10-08T13:48:55.273326Z",
     "start_time": "2023-10-08T13:48:55.268410Z"
    }
   },
   "outputs": [
    {
     "data": {
      "text/plain": [
       "[[7, 8, 9], [4, 5, 6], [1, 2, 3]]"
      ]
     },
     "execution_count": 15,
     "metadata": {},
     "output_type": "execute_result"
    }
   ],
   "source": [
    "l"
   ]
  },
  {
   "cell_type": "markdown",
   "id": "b79adfcd",
   "metadata": {},
   "source": [
    "### reverse left to right"
   ]
  },
  {
   "cell_type": "code",
   "execution_count": 26,
   "id": "a68ef9ed",
   "metadata": {
    "ExecuteTime": {
     "end_time": "2023-10-08T13:53:38.416272Z",
     "start_time": "2023-10-08T13:53:38.410450Z"
    }
   },
   "outputs": [],
   "source": [
    "l = [[1,2,3],[4,5,6],[7,8,9]]"
   ]
  },
  {
   "cell_type": "code",
   "execution_count": 23,
   "id": "c098625f",
   "metadata": {
    "ExecuteTime": {
     "end_time": "2023-10-08T13:53:00.630891Z",
     "start_time": "2023-10-08T13:53:00.622063Z"
    }
   },
   "outputs": [
    {
     "data": {
      "text/plain": [
       "[[3, 2, 1], [6, 5, 4], [9, 8, 7]]"
      ]
     },
     "execution_count": 23,
     "metadata": {},
     "output_type": "execute_result"
    }
   ],
   "source": [
    "[r[::-1] for r in l]"
   ]
  },
  {
   "cell_type": "code",
   "execution_count": 27,
   "id": "6530ac83",
   "metadata": {
    "ExecuteTime": {
     "end_time": "2023-10-08T13:53:39.639270Z",
     "start_time": "2023-10-08T13:53:39.633156Z"
    }
   },
   "outputs": [],
   "source": [
    "def reverse(l: List[List[int]]):\n",
    "    for r in l:\n",
    "        s, e = 0, len(r) - 1\n",
    "        while s < e:\n",
    "            r[s], r[e] = r[e], r[s]\n",
    "            s += 1\n",
    "            e -= 1"
   ]
  },
  {
   "cell_type": "code",
   "execution_count": 28,
   "id": "b4ba5eef",
   "metadata": {
    "ExecuteTime": {
     "end_time": "2023-10-08T13:53:40.716905Z",
     "start_time": "2023-10-08T13:53:40.709289Z"
    }
   },
   "outputs": [
    {
     "data": {
      "text/plain": [
       "[[3, 2, 1], [6, 5, 4], [9, 8, 7]]"
      ]
     },
     "execution_count": 28,
     "metadata": {},
     "output_type": "execute_result"
    }
   ],
   "source": [
    "reverse(l)\n",
    "l"
   ]
  },
  {
   "cell_type": "markdown",
   "id": "4ae147d7",
   "metadata": {},
   "source": [
    "## transpose"
   ]
  },
  {
   "cell_type": "markdown",
   "id": "63a2b5b7",
   "metadata": {},
   "source": [
    "```\n",
    "# Finds transpose of A[][] in-place\n",
    "def transpose(A):\n",
    "    N = len(A[0])\n",
    "    for i in range(N):\n",
    "        for j in range(i+1, N):\n",
    "            A[i][j], A[j][i] = A[j][i], A[i][j]\n",
    "```"
   ]
  },
  {
   "cell_type": "markdown",
   "id": "8e89a0bd",
   "metadata": {},
   "source": [
    "## 48. Rotate Image"
   ]
  },
  {
   "cell_type": "markdown",
   "id": "0a7f863d",
   "metadata": {
    "ExecuteTime": {
     "end_time": "2023-10-07T13:41:31.657690Z",
     "start_time": "2023-10-07T13:41:31.641503Z"
    }
   },
   "source": [
    "- 顺时针（clockwise）旋转 90°；\n",
    "\n",
    "```\n",
    "/*\n",
    " * clockwise rotate\n",
    " * first reverse up to down, then swap the symmetry (transpose)\n",
    " * 1 2 3     7 8 9     7 4 1\n",
    " * 4 5 6  => 4 5 6  => 8 5 2\n",
    " * 7 8 9     1 2 3     9 6 3\n",
    "*/\n",
    "```\n"
   ]
  },
  {
   "cell_type": "code",
   "execution_count": 10,
   "id": "f5720d7e",
   "metadata": {
    "ExecuteTime": {
     "end_time": "2023-10-08T13:46:33.986791Z",
     "start_time": "2023-10-08T13:46:33.979222Z"
    }
   },
   "outputs": [],
   "source": [
    "class Solution:\n",
    "    def rotate(self, matrix: List[List[int]]) -> None:\n",
    "        \"\"\"\n",
    "        Do not return anything, modify matrix in-place instead.\n",
    "        \"\"\"\n",
    "        s, e = 0, len(matrix)-1\n",
    "        while (s < e):\n",
    "            matrix[s], matrix[e] = matrix[e], matrix[s]\n",
    "            s += 1\n",
    "            e -= 1\n",
    "        \n",
    "        N = len(matrix[0])\n",
    "        for i in range(N):\n",
    "            for j in range(i+1, N):\n",
    "                matrix[i][j], matrix[j][i] = matrix[j][i], matrix[i][j]"
   ]
  },
  {
   "cell_type": "code",
   "execution_count": 8,
   "id": "852d0c82",
   "metadata": {
    "ExecuteTime": {
     "end_time": "2023-10-08T13:44:50.383854Z",
     "start_time": "2023-10-08T13:44:50.379198Z"
    }
   },
   "outputs": [],
   "source": [
    "class Solution:\n",
    "    def rotate(self, matrix: List[List[int]]) -> None:\n",
    "        \"\"\"\n",
    "        Do not return anything, modify matrix in-place instead.\n",
    "        \"\"\"\n",
    "        matrix = matrix[::-1]\n",
    "        print(matrix)\n",
    "        N = len(matrix[0])\n",
    "        for i in range(N):\n",
    "            for j in range(i+1, N):\n",
    "                matrix[i][j], matrix[j][i] = matrix[j][i], matrix[i][j]\n",
    "        print(matrix)"
   ]
  },
  {
   "cell_type": "code",
   "execution_count": 9,
   "id": "c91ab5b6",
   "metadata": {
    "ExecuteTime": {
     "end_time": "2023-10-08T13:44:51.547107Z",
     "start_time": "2023-10-08T13:44:51.536385Z"
    }
   },
   "outputs": [
    {
     "name": "stdout",
     "output_type": "stream",
     "text": [
      "[[7, 8, 9], [4, 5, 6], [1, 2, 3]]\n",
      "[[7, 4, 1], [8, 5, 2], [9, 6, 3]]\n"
     ]
    },
    {
     "data": {
      "text/plain": [
       "[[9, 6, 3], [8, 5, 2], [7, 4, 1]]"
      ]
     },
     "execution_count": 9,
     "metadata": {},
     "output_type": "execute_result"
    }
   ],
   "source": [
    "sln = Solution()\n",
    "m = [[1,2,3],[4,5,6],[7,8,9]]\n",
    "sln.rotate(m)\n",
    "m"
   ]
  },
  {
   "cell_type": "markdown",
   "id": "649a61e5",
   "metadata": {},
   "source": [
    "```\n",
    "/*\n",
    " * anticlockwise rotate\n",
    " * first reverse left to right, then swap the symmetry\n",
    " * 1 2 3     3 2 1     3 6 9\n",
    " * 4 5 6  => 6 5 4  => 2 5 8\n",
    " * 7 8 9     9 8 7     1 4 7\n",
    "*/\n",
    "```"
   ]
  },
  {
   "cell_type": "markdown",
   "id": "c1097de9",
   "metadata": {},
   "source": [
    "## 1886. Determine Whether Matrix Can Be Obtained By Rotation"
   ]
  },
  {
   "cell_type": "code",
   "execution_count": 46,
   "id": "4866a99f",
   "metadata": {
    "ExecuteTime": {
     "end_time": "2023-10-08T14:09:29.613701Z",
     "start_time": "2023-10-08T14:09:29.605217Z"
    },
    "scrolled": true
   },
   "outputs": [
    {
     "data": {
      "text/plain": [
       "[(7, 3, 0), (8, 4, 1), (9, 5, 2)]"
      ]
     },
     "execution_count": 46,
     "metadata": {},
     "output_type": "execute_result"
    }
   ],
   "source": [
    "l = [[0, 1, 2], [3, 4, 5], [7, 8, 9]]\n",
    "list(zip(*l[::-1]))"
   ]
  },
  {
   "cell_type": "code",
   "execution_count": 47,
   "id": "7d9b13a8",
   "metadata": {
    "ExecuteTime": {
     "end_time": "2023-10-08T14:09:43.738247Z",
     "start_time": "2023-10-08T14:09:43.733510Z"
    }
   },
   "outputs": [
    {
     "data": {
      "text/plain": [
       "[[7, 3, 0], [8, 4, 1], [9, 5, 2]]"
      ]
     },
     "execution_count": 47,
     "metadata": {},
     "output_type": "execute_result"
    }
   ],
   "source": [
    "[list(r) for r in list(zip(*l[::-1]))]"
   ]
  },
  {
   "cell_type": "code",
   "execution_count": 45,
   "id": "133fd26d",
   "metadata": {
    "ExecuteTime": {
     "end_time": "2023-10-08T14:09:09.815306Z",
     "start_time": "2023-10-08T14:09:09.811503Z"
    }
   },
   "outputs": [],
   "source": [
    "class Solution:\n",
    "    def findRotation(self, mat: List[List[int]], target: List[List[int]]) -> bool:\n",
    "        for _ in range(4):\n",
    "            if mat == target: return True\n",
    "            mat = [list(r) for r in list(zip(*mat[::-1]))]\n",
    "        return False"
   ]
  }
 ],
 "metadata": {
  "kernelspec": {
   "display_name": "Python 3 (ipykernel)",
   "language": "python",
   "name": "python3"
  },
  "language_info": {
   "codemirror_mode": {
    "name": "ipython",
    "version": 3
   },
   "file_extension": ".py",
   "mimetype": "text/x-python",
   "name": "python",
   "nbconvert_exporter": "python",
   "pygments_lexer": "ipython3",
   "version": "3.10.9"
  },
  "toc": {
   "base_numbering": 1,
   "nav_menu": {},
   "number_sections": true,
   "sideBar": true,
   "skip_h1_title": false,
   "title_cell": "Table of Contents",
   "title_sidebar": "Contents",
   "toc_cell": false,
   "toc_position": {},
   "toc_section_display": true,
   "toc_window_display": false
  }
 },
 "nbformat": 4,
 "nbformat_minor": 5
}
