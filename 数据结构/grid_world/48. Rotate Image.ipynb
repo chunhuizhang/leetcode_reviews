{
 "cells": [
  {
   "cell_type": "code",
   "execution_count": 3,
   "id": "7e6e5750",
   "metadata": {
    "ExecuteTime": {
     "end_time": "2023-10-08T13:43:53.267602Z",
     "start_time": "2023-10-08T13:43:53.264409Z"
    }
   },
   "outputs": [],
   "source": [
    "from typing import List"
   ]
  },
  {
   "cell_type": "markdown",
   "id": "520d03a0",
   "metadata": {},
   "source": [
    "## transpose"
   ]
  },
  {
   "cell_type": "code",
   "execution_count": null,
   "id": "38e7534c",
   "metadata": {},
   "outputs": [],
   "source": [
    "l = "
   ]
  },
  {
   "cell_type": "markdown",
   "id": "6c2330b0",
   "metadata": {},
   "source": [
    "## reverse"
   ]
  },
  {
   "cell_type": "markdown",
   "id": "11fe8774",
   "metadata": {},
   "source": [
    "### 拷贝与引用"
   ]
  },
  {
   "cell_type": "markdown",
   "id": "c9a32df2",
   "metadata": {},
   "source": [
    "#### 拷贝"
   ]
  },
  {
   "cell_type": "code",
   "execution_count": 29,
   "id": "d10b02a2",
   "metadata": {
    "ExecuteTime": {
     "end_time": "2023-10-08T13:59:40.322014Z",
     "start_time": "2023-10-08T13:59:40.318285Z"
    }
   },
   "outputs": [],
   "source": [
    "l = [1, 2, 3]"
   ]
  },
  {
   "cell_type": "code",
   "execution_count": 35,
   "id": "1d2ddc76",
   "metadata": {
    "ExecuteTime": {
     "end_time": "2023-10-08T14:02:18.228173Z",
     "start_time": "2023-10-08T14:02:18.220453Z"
    }
   },
   "outputs": [
    {
     "data": {
      "text/plain": [
       "[3, 2, 1]"
      ]
     },
     "execution_count": 35,
     "metadata": {},
     "output_type": "execute_result"
    }
   ],
   "source": [
    "# slice and return a copy\n",
    "# 浅拷贝\n",
    "l2 = l[::-1]\n",
    "l2"
   ]
  },
  {
   "cell_type": "code",
   "execution_count": 32,
   "id": "62c1dc1f",
   "metadata": {
    "ExecuteTime": {
     "end_time": "2023-10-08T13:59:54.734484Z",
     "start_time": "2023-10-08T13:59:54.728765Z"
    }
   },
   "outputs": [
    {
     "data": {
      "text/plain": [
       "[4, 2, 1]"
      ]
     },
     "execution_count": 32,
     "metadata": {},
     "output_type": "execute_result"
    }
   ],
   "source": [
    "l2[0] = 4\n",
    "l2"
   ]
  },
  {
   "cell_type": "code",
   "execution_count": 34,
   "id": "9a186a28",
   "metadata": {
    "ExecuteTime": {
     "end_time": "2023-10-08T13:59:59.933332Z",
     "start_time": "2023-10-08T13:59:59.928846Z"
    }
   },
   "outputs": [
    {
     "data": {
      "text/plain": [
       "[1, 2, 3]"
      ]
     },
     "execution_count": 34,
     "metadata": {},
     "output_type": "execute_result"
    }
   ],
   "source": [
    "l"
   ]
  },
  {
   "cell_type": "markdown",
   "id": "7f77ee45",
   "metadata": {},
   "source": [
    "#### 浅拷贝"
   ]
  },
  {
   "cell_type": "code",
   "execution_count": 36,
   "id": "6405431d",
   "metadata": {
    "ExecuteTime": {
     "end_time": "2023-10-08T14:03:13.344732Z",
     "start_time": "2023-10-08T14:03:13.337515Z"
    }
   },
   "outputs": [
    {
     "data": {
      "text/plain": [
       "[[7, 8, 9], [4, 5, 6], [1, 2, 3]]"
      ]
     },
     "execution_count": 36,
     "metadata": {},
     "output_type": "execute_result"
    }
   ],
   "source": [
    "l = [[1, 2, 3], [4, 5, 6], [7, 8, 9]]\n",
    "# 浅拷贝\n",
    "l2 = l[::-1]\n",
    "l2"
   ]
  },
  {
   "cell_type": "code",
   "execution_count": 37,
   "id": "857bf811",
   "metadata": {
    "ExecuteTime": {
     "end_time": "2023-10-08T14:03:20.299573Z",
     "start_time": "2023-10-08T14:03:20.290222Z"
    }
   },
   "outputs": [
    {
     "data": {
      "text/plain": [
       "[[10, 8, 9], [4, 5, 6], [1, 2, 3]]"
      ]
     },
     "execution_count": 37,
     "metadata": {},
     "output_type": "execute_result"
    }
   ],
   "source": [
    "l2[0][0] = 10\n",
    "l2"
   ]
  },
  {
   "cell_type": "code",
   "execution_count": 38,
   "id": "eb993de1",
   "metadata": {
    "ExecuteTime": {
     "end_time": "2023-10-08T14:03:23.130168Z",
     "start_time": "2023-10-08T14:03:23.123422Z"
    }
   },
   "outputs": [
    {
     "data": {
      "text/plain": [
       "[[1, 2, 3], [4, 5, 6], [10, 8, 9]]"
      ]
     },
     "execution_count": 38,
     "metadata": {},
     "output_type": "execute_result"
    }
   ],
   "source": [
    "l"
   ]
  },
  {
   "cell_type": "markdown",
   "id": "1e5cab11",
   "metadata": {},
   "source": [
    "### reverse up to down"
   ]
  },
  {
   "cell_type": "code",
   "execution_count": 11,
   "id": "38420341",
   "metadata": {
    "ExecuteTime": {
     "end_time": "2023-10-08T13:47:24.626398Z",
     "start_time": "2023-10-08T13:47:24.621544Z"
    }
   },
   "outputs": [],
   "source": [
    "l = [[1,2,3],[4,5,6],[7,8,9]]"
   ]
  },
  {
   "cell_type": "code",
   "execution_count": 12,
   "id": "77af5c1f",
   "metadata": {
    "ExecuteTime": {
     "end_time": "2023-10-08T13:47:29.227342Z",
     "start_time": "2023-10-08T13:47:29.221213Z"
    }
   },
   "outputs": [
    {
     "data": {
      "text/plain": [
       "[[7, 8, 9], [4, 5, 6], [1, 2, 3]]"
      ]
     },
     "execution_count": 12,
     "metadata": {},
     "output_type": "execute_result"
    }
   ],
   "source": [
    "l[::-1]"
   ]
  },
  {
   "cell_type": "code",
   "execution_count": 13,
   "id": "946ac204",
   "metadata": {
    "ExecuteTime": {
     "end_time": "2023-10-08T13:48:50.052418Z",
     "start_time": "2023-10-08T13:48:50.045067Z"
    }
   },
   "outputs": [],
   "source": [
    "def reverse(l: List[List[int]]):\n",
    "    s, e = 0, len(l)-1\n",
    "    while s < e:\n",
    "        l[s], l[e] = l[e], l[s]\n",
    "        s += 1\n",
    "        e -= 1"
   ]
  },
  {
   "cell_type": "code",
   "execution_count": 14,
   "id": "c9aa25d9",
   "metadata": {
    "ExecuteTime": {
     "end_time": "2023-10-08T13:48:52.832654Z",
     "start_time": "2023-10-08T13:48:52.827619Z"
    }
   },
   "outputs": [],
   "source": [
    "reverse(l)"
   ]
  },
  {
   "cell_type": "code",
   "execution_count": 15,
   "id": "f54a1784",
   "metadata": {
    "ExecuteTime": {
     "end_time": "2023-10-08T13:48:55.273326Z",
     "start_time": "2023-10-08T13:48:55.268410Z"
    }
   },
   "outputs": [
    {
     "data": {
      "text/plain": [
       "[[7, 8, 9], [4, 5, 6], [1, 2, 3]]"
      ]
     },
     "execution_count": 15,
     "metadata": {},
     "output_type": "execute_result"
    }
   ],
   "source": [
    "l"
   ]
  },
  {
   "cell_type": "markdown",
   "id": "a308c874",
   "metadata": {},
   "source": [
    "### reverse left to right"
   ]
  },
  {
   "cell_type": "code",
   "execution_count": 26,
   "id": "30ae9e98",
   "metadata": {
    "ExecuteTime": {
     "end_time": "2023-10-08T13:53:38.416272Z",
     "start_time": "2023-10-08T13:53:38.410450Z"
    }
   },
   "outputs": [],
   "source": [
    "l = [[1,2,3],[4,5,6],[7,8,9]]"
   ]
  },
  {
   "cell_type": "code",
   "execution_count": 23,
   "id": "73feacdc",
   "metadata": {
    "ExecuteTime": {
     "end_time": "2023-10-08T13:53:00.630891Z",
     "start_time": "2023-10-08T13:53:00.622063Z"
    }
   },
   "outputs": [
    {
     "data": {
      "text/plain": [
       "[[3, 2, 1], [6, 5, 4], [9, 8, 7]]"
      ]
     },
     "execution_count": 23,
     "metadata": {},
     "output_type": "execute_result"
    }
   ],
   "source": [
    "[r[::-1] for r in l]"
   ]
  },
  {
   "cell_type": "code",
   "execution_count": 27,
   "id": "87039f8a",
   "metadata": {
    "ExecuteTime": {
     "end_time": "2023-10-08T13:53:39.639270Z",
     "start_time": "2023-10-08T13:53:39.633156Z"
    }
   },
   "outputs": [],
   "source": [
    "def reverse(l: List[List[int]]):\n",
    "    for r in l:\n",
    "        s, e = 0, len(r) - 1\n",
    "        while s < e:\n",
    "            r[s], r[e] = r[e], r[s]\n",
    "            s += 1\n",
    "            e -= 1"
   ]
  },
  {
   "cell_type": "code",
   "execution_count": 28,
   "id": "121d1c46",
   "metadata": {
    "ExecuteTime": {
     "end_time": "2023-10-08T13:53:40.716905Z",
     "start_time": "2023-10-08T13:53:40.709289Z"
    }
   },
   "outputs": [
    {
     "data": {
      "text/plain": [
       "[[3, 2, 1], [6, 5, 4], [9, 8, 7]]"
      ]
     },
     "execution_count": 28,
     "metadata": {},
     "output_type": "execute_result"
    }
   ],
   "source": [
    "reverse(l)\n",
    "l"
   ]
  },
  {
   "cell_type": "markdown",
   "id": "4ae147d7",
   "metadata": {},
   "source": [
    "## transpose"
   ]
  },
  {
   "cell_type": "markdown",
   "id": "63a2b5b7",
   "metadata": {},
   "source": [
    "```\n",
    "# Finds transpose of A[][] in-place\n",
    "def transpose(A):\n",
    "    N = len(A[0])\n",
    "    for i in range(N):\n",
    "        for j in range(i+1, N):\n",
    "            A[i][j], A[j][i] = A[j][i], A[i][j]\n",
    "```"
   ]
  },
  {
   "cell_type": "markdown",
   "id": "8e89a0bd",
   "metadata": {},
   "source": [
    "## 48. Rotate Image"
   ]
  },
  {
   "cell_type": "markdown",
   "id": "0a7f863d",
   "metadata": {
    "ExecuteTime": {
     "end_time": "2023-10-07T13:41:31.657690Z",
     "start_time": "2023-10-07T13:41:31.641503Z"
    }
   },
   "source": [
    "- 顺时针（clockwise）旋转 90°；\n",
    "\n",
    "```\n",
    "/*\n",
    " * clockwise rotate\n",
    " * first reverse up to down, then swap the symmetry (transpose)\n",
    " * 1 2 3     7 8 9     7 4 1\n",
    " * 4 5 6  => 4 5 6  => 8 5 2\n",
    " * 7 8 9     1 2 3     9 6 3\n",
    "*/\n",
    "```\n"
   ]
  },
  {
   "cell_type": "code",
   "execution_count": 10,
   "id": "f5720d7e",
   "metadata": {
    "ExecuteTime": {
     "end_time": "2023-10-08T13:46:33.986791Z",
     "start_time": "2023-10-08T13:46:33.979222Z"
    }
   },
   "outputs": [],
   "source": [
    "class Solution:\n",
    "    def rotate(self, matrix: List[List[int]]) -> None:\n",
    "        \"\"\"\n",
    "        Do not return anything, modify matrix in-place instead.\n",
    "        \"\"\"\n",
    "        s, e = 0, len(matrix)-1\n",
    "        while (s < e):\n",
    "            matrix[s], matrix[e] = matrix[e], matrix[s]\n",
    "            s += 1\n",
    "            e -= 1\n",
    "        \n",
    "        N = len(matrix[0])\n",
    "        for i in range(N):\n",
    "            for j in range(i+1, N):\n",
    "                matrix[i][j], matrix[j][i] = matrix[j][i], matrix[i][j]"
   ]
  },
  {
   "cell_type": "code",
   "execution_count": 8,
   "id": "2e6749e9",
   "metadata": {
    "ExecuteTime": {
     "end_time": "2023-10-08T13:44:50.383854Z",
     "start_time": "2023-10-08T13:44:50.379198Z"
    }
   },
   "outputs": [],
   "source": [
    "class Solution:\n",
    "    def rotate(self, matrix: List[List[int]]) -> None:\n",
    "        \"\"\"\n",
    "        Do not return anything, modify matrix in-place instead.\n",
    "        \"\"\"\n",
    "        matrix = matrix[::-1]\n",
    "        print(matrix)\n",
    "        N = len(matrix[0])\n",
    "        for i in range(N):\n",
    "            for j in range(i+1, N):\n",
    "                matrix[i][j], matrix[j][i] = matrix[j][i], matrix[i][j]\n",
    "        print(matrix)"
   ]
  },
  {
   "cell_type": "code",
   "execution_count": 9,
   "id": "31d71be7",
   "metadata": {
    "ExecuteTime": {
     "end_time": "2023-10-08T13:44:51.547107Z",
     "start_time": "2023-10-08T13:44:51.536385Z"
    }
   },
   "outputs": [
    {
     "name": "stdout",
     "output_type": "stream",
     "text": [
      "[[7, 8, 9], [4, 5, 6], [1, 2, 3]]\n",
      "[[7, 4, 1], [8, 5, 2], [9, 6, 3]]\n"
     ]
    },
    {
     "data": {
      "text/plain": [
       "[[9, 6, 3], [8, 5, 2], [7, 4, 1]]"
      ]
     },
     "execution_count": 9,
     "metadata": {},
     "output_type": "execute_result"
    }
   ],
   "source": [
    "sln = Solution()\n",
    "m = [[1,2,3],[4,5,6],[7,8,9]]\n",
    "sln.rotate(m)\n",
    "m"
   ]
  },
  {
   "cell_type": "markdown",
   "id": "649a61e5",
   "metadata": {},
   "source": [
    "```\n",
    "/*\n",
    " * anticlockwise rotate\n",
    " * first reverse left to right, then swap the symmetry\n",
    " * 1 2 3     3 2 1     3 6 9\n",
    " * 4 5 6  => 6 5 4  => 2 5 8\n",
    " * 7 8 9     9 8 7     1 4 7\n",
    "*/\n",
    "```"
   ]
  }
 ],
 "metadata": {
  "kernelspec": {
   "display_name": "Python 3 (ipykernel)",
   "language": "python",
   "name": "python3"
  },
  "language_info": {
   "codemirror_mode": {
    "name": "ipython",
    "version": 3
   },
   "file_extension": ".py",
   "mimetype": "text/x-python",
   "name": "python",
   "nbconvert_exporter": "python",
   "pygments_lexer": "ipython3",
   "version": "3.10.9"
  },
  "toc": {
   "base_numbering": 1,
   "nav_menu": {},
   "number_sections": true,
   "sideBar": true,
   "skip_h1_title": false,
   "title_cell": "Table of Contents",
   "title_sidebar": "Contents",
   "toc_cell": false,
   "toc_position": {},
   "toc_section_display": true,
   "toc_window_display": false
  }
 },
 "nbformat": 4,
 "nbformat_minor": 5
}
