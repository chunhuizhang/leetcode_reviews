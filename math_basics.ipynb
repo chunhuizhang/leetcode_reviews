{
 "cells": [
  {
   "cell_type": "markdown",
   "id": "601cb936",
   "metadata": {},
   "source": [
    "## 排列组合"
   ]
  },
  {
   "cell_type": "markdown",
   "id": "9cf53607",
   "metadata": {},
   "source": [
    "$$\n",
    "\\begin{split}\n",
    "\\binom{n}{k}&=C(n, k) = \\frac{n!}{k!(n-k)!}\\\\\n",
    "\\binom{n}{k}&=\\binom{n}{n-k}\n",
    "\\end{split}\n",
    "$$"
   ]
  },
  {
   "cell_type": "markdown",
   "id": "ad583fad",
   "metadata": {},
   "source": [
    "- 也被成为 binomial coefficient, \n",
    "\n",
    "$$\n",
    "(1+x)^n\n",
    "$$"
   ]
  },
  {
   "cell_type": "code",
   "execution_count": 3,
   "id": "8e0ac842",
   "metadata": {
    "ExecuteTime": {
     "end_time": "2023-08-12T12:34:19.108760Z",
     "start_time": "2023-08-12T12:34:19.099759Z"
    }
   },
   "outputs": [
    {
     "name": "stdout",
     "output_type": "stream",
     "text": [
      "28\n",
      "28.0\n"
     ]
    }
   ],
   "source": [
    "import math\n",
    "print(math.comb(8, 2))\n",
    "\n",
    "print(math.factorial(8) / math.factorial(2) / math.factorial(8-2))"
   ]
  },
  {
   "cell_type": "markdown",
   "id": "db41bad8",
   "metadata": {},
   "source": [
    "## 素数"
   ]
  },
  {
   "cell_type": "code",
   "execution_count": 1,
   "id": "858e4544",
   "metadata": {
    "ExecuteTime": {
     "end_time": "2023-08-13T04:26:10.644861Z",
     "start_time": "2023-08-13T04:26:10.631326Z"
    }
   },
   "outputs": [],
   "source": [
    "def prime_factorizaton(n):\n",
    "    factors = []\n",
    "    divisor = 2\n",
    "    while n > 1:\n",
    "        while n % divisor == 0:\n",
    "            factors.append(divisor)\n",
    "            n //= divisor \n",
    "        divisor += 1\n",
    "    return factors"
   ]
  },
  {
   "cell_type": "code",
   "execution_count": 2,
   "id": "e4cca8ba",
   "metadata": {
    "ExecuteTime": {
     "end_time": "2023-08-13T04:26:17.202091Z",
     "start_time": "2023-08-13T04:26:17.162214Z"
    }
   },
   "outputs": [
    {
     "data": {
      "text/plain": [
       "[3, 174763]"
      ]
     },
     "execution_count": 2,
     "metadata": {},
     "output_type": "execute_result"
    }
   ],
   "source": [
    "prime_factorizaton(2**19+1)"
   ]
  }
 ],
 "metadata": {
  "kernelspec": {
   "display_name": "Python 3 (ipykernel)",
   "language": "python",
   "name": "python3"
  },
  "language_info": {
   "codemirror_mode": {
    "name": "ipython",
    "version": 3
   },
   "file_extension": ".py",
   "mimetype": "text/x-python",
   "name": "python",
   "nbconvert_exporter": "python",
   "pygments_lexer": "ipython3",
   "version": "3.10.9"
  },
  "toc": {
   "base_numbering": 1,
   "nav_menu": {},
   "number_sections": true,
   "sideBar": true,
   "skip_h1_title": false,
   "title_cell": "Table of Contents",
   "title_sidebar": "Contents",
   "toc_cell": false,
   "toc_position": {},
   "toc_section_display": true,
   "toc_window_display": false
  }
 },
 "nbformat": 4,
 "nbformat_minor": 5
}
