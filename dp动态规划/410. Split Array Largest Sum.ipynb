{
 "cells": [
  {
   "cell_type": "markdown",
   "id": "ee65ad0e",
   "metadata": {},
   "source": [
    "## 410. Split Array Largest Sum"
   ]
  },
  {
   "cell_type": "markdown",
   "id": "a78bab25",
   "metadata": {},
   "source": [
    "- k => 1, k-1"
   ]
  },
  {
   "cell_type": "code",
   "execution_count": 6,
   "id": "a01351da",
   "metadata": {
    "ExecuteTime": {
     "end_time": "2023-08-28T14:12:33.861790Z",
     "start_time": "2023-08-28T14:12:33.857440Z"
    }
   },
   "outputs": [],
   "source": [
    "from typing import List\n",
    "from functools import cache"
   ]
  },
  {
   "cell_type": "code",
   "execution_count": 4,
   "id": "f95c9d7f",
   "metadata": {
    "ExecuteTime": {
     "end_time": "2023-08-28T14:12:08.672486Z",
     "start_time": "2023-08-28T14:12:08.664789Z"
    }
   },
   "outputs": [],
   "source": [
    "class Solution:\n",
    "    def splitArray(self, nums: List[int], k: int) -> int:\n",
    "        \n",
    "        @cache\n",
    "        def dfs(i, k):\n",
    "            '''i: start index, k: splits'''\n",
    "            if k == 1:\n",
    "                return sum(nums[i: ])\n",
    "            \n",
    "            res, curSum = float('inf'), 0\n",
    "            # 多少个 branch\n",
    "            for j in range(i, len(nums) - k + 1):\n",
    "                curSum += nums[j]\n",
    "                # split on j\n",
    "                maxSum = max(curSum, dfs(j+1, k-1))\n",
    "                res = min(res, maxSum)\n",
    "            return res\n",
    "        return dfs(0, k)"
   ]
  },
  {
   "cell_type": "code",
   "execution_count": 9,
   "id": "5eb4c593",
   "metadata": {
    "ExecuteTime": {
     "end_time": "2023-08-28T14:13:20.850041Z",
     "start_time": "2023-08-28T14:13:20.843488Z"
    }
   },
   "outputs": [],
   "source": [
    "sln = Solution()\n",
    "assert sln.splitArray([7, 2, 5, 10, 8], 2) == 18\n",
    "assert sln.splitArray([1, 2, 3, 4, 5], 2) == 9"
   ]
  },
  {
   "cell_type": "code",
   "execution_count": 12,
   "id": "04e6d662",
   "metadata": {
    "ExecuteTime": {
     "end_time": "2023-08-28T14:15:33.761814Z",
     "start_time": "2023-08-28T14:15:33.756760Z"
    }
   },
   "outputs": [],
   "source": [
    "class Solution:\n",
    "    def splitArray(self, nums: List[int], k: int) -> int:\n",
    "        \n",
    "        dp = {}\n",
    "        def dfs(i, k):\n",
    "            '''i: start index, k: splits'''\n",
    "            if k == 1:\n",
    "                return sum(nums[i: ])\n",
    "            \n",
    "            if (i, k) in dp:\n",
    "                return dp[(i, k)]\n",
    "            \n",
    "            res, curSum = float('inf'), 0\n",
    "            \n",
    "            # 多少个 branch, j 落在哪一个位置上\n",
    "            # 虽然是砍两段（two splits），但其实是 1 + (k-1)\n",
    "            for j in range(i, len(nums) - k + 1):\n",
    "                curSum += nums[j]\n",
    "                # split on j\n",
    "                maxSum = max(curSum, dfs(j+1, k-1))\n",
    "                res = min(res, maxSum)\n",
    "            dp[(i, k)] = res\n",
    "            return res\n",
    "        return dfs(0, k)"
   ]
  },
  {
   "cell_type": "code",
   "execution_count": 11,
   "id": "125bd888",
   "metadata": {
    "ExecuteTime": {
     "end_time": "2023-08-28T14:13:25.437035Z",
     "start_time": "2023-08-28T14:13:25.429733Z"
    }
   },
   "outputs": [],
   "source": [
    "sln = Solution()\n",
    "assert sln.splitArray([7, 2, 5, 10, 8], 2) == 18\n",
    "assert sln.splitArray([1, 2, 3, 4, 5], 2) == 9"
   ]
  },
  {
   "cell_type": "markdown",
   "id": "3f75cf45",
   "metadata": {},
   "source": [
    "## 应用"
   ]
  },
  {
   "cell_type": "markdown",
   "id": "7de0273e",
   "metadata": {},
   "source": [
    "### 1011. Capacity To Ship Packages Within D Days\n"
   ]
  },
  {
   "cell_type": "markdown",
   "id": "806324a7",
   "metadata": {},
   "source": [
    "- 任务（list of weights）分配在 K 天，\n",
    "    - 求最大 split 的最小"
   ]
  }
 ],
 "metadata": {
  "kernelspec": {
   "display_name": "Python 3 (ipykernel)",
   "language": "python",
   "name": "python3"
  },
  "language_info": {
   "codemirror_mode": {
    "name": "ipython",
    "version": 3
   },
   "file_extension": ".py",
   "mimetype": "text/x-python",
   "name": "python",
   "nbconvert_exporter": "python",
   "pygments_lexer": "ipython3",
   "version": "3.10.9"
  },
  "toc": {
   "base_numbering": 1,
   "nav_menu": {},
   "number_sections": true,
   "sideBar": true,
   "skip_h1_title": false,
   "title_cell": "Table of Contents",
   "title_sidebar": "Contents",
   "toc_cell": false,
   "toc_position": {},
   "toc_section_display": true,
   "toc_window_display": false
  }
 },
 "nbformat": 4,
 "nbformat_minor": 5
}
