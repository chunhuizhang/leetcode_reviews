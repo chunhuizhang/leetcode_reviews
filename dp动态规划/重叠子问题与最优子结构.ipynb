{
 "cells": [
  {
   "cell_type": "markdown",
   "id": "eaeb10a5",
   "metadata": {},
   "source": [
    "- Overlapping Subproblems\n",
    "- Optimal Substructure"
   ]
  },
  {
   "cell_type": "markdown",
   "id": "d9a0deb4",
   "metadata": {},
   "source": [
    "## Overlapping Subproblems"
   ]
  },
  {
   "cell_type": "markdown",
   "id": "6dcb0b64",
   "metadata": {},
   "source": [
    "- https://www.geeksforgeeks.org/overlapping-subproblems-property-in-dynamic-programming-dp-1/"
   ]
  },
  {
   "cell_type": "markdown",
   "id": "53b8b74b",
   "metadata": {},
   "source": [
    "## Optimal Substructure\n"
   ]
  },
  {
   "cell_type": "markdown",
   "id": "054b4e90",
   "metadata": {},
   "source": [
    "- https://www.geeksforgeeks.org/optimal-substructure-property-in-dynamic-programming-dp-2/"
   ]
  }
 ],
 "metadata": {
  "kernelspec": {
   "display_name": "Python 3 (ipykernel)",
   "language": "python",
   "name": "python3"
  },
  "language_info": {
   "codemirror_mode": {
    "name": "ipython",
    "version": 3
   },
   "file_extension": ".py",
   "mimetype": "text/x-python",
   "name": "python",
   "nbconvert_exporter": "python",
   "pygments_lexer": "ipython3",
   "version": "3.10.9"
  },
  "toc": {
   "base_numbering": 1,
   "nav_menu": {},
   "number_sections": true,
   "sideBar": true,
   "skip_h1_title": false,
   "title_cell": "Table of Contents",
   "title_sidebar": "Contents",
   "toc_cell": false,
   "toc_position": {},
   "toc_section_display": true,
   "toc_window_display": false
  }
 },
 "nbformat": 4,
 "nbformat_minor": 5
}
