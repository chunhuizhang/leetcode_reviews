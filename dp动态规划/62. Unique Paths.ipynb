{
 "cells": [
  {
   "cell_type": "markdown",
   "id": "dde44c2c",
   "metadata": {},
   "source": [
    "## O(m*n)"
   ]
  },
  {
   "cell_type": "code",
   "execution_count": 11,
   "id": "9e81abd0",
   "metadata": {
    "ExecuteTime": {
     "end_time": "2023-08-19T12:29:13.931820Z",
     "start_time": "2023-08-19T12:29:13.921170Z"
    }
   },
   "outputs": [],
   "source": [
    "class Solution:\n",
    "    def uniquePaths(self, m: int, n: int) -> int:\n",
    "        # dp = [[1]*n]*m, wrong!!!\n",
    "        dp = [[1]*n for _ in range(m)]\n",
    "        \n",
    "        for i in range(1, m):\n",
    "            for j in range(1, n):\n",
    "                dp[i][j] = dp[i-1][j] + dp[i][j-1]\n",
    "        return dp[m-1][n-1]"
   ]
  },
  {
   "cell_type": "code",
   "execution_count": 2,
   "id": "738dd367",
   "metadata": {
    "ExecuteTime": {
     "end_time": "2023-08-19T12:20:32.034226Z",
     "start_time": "2023-08-19T12:20:32.017680Z"
    }
   },
   "outputs": [
    {
     "data": {
      "text/plain": [
       "28"
      ]
     },
     "execution_count": 2,
     "metadata": {},
     "output_type": "execute_result"
    }
   ],
   "source": [
    "sln = Solution()\n",
    "sln.uniquePaths(3, 7)"
   ]
  },
  {
   "cell_type": "markdown",
   "id": "350ba899",
   "metadata": {},
   "source": [
    "## O(n)"
   ]
  },
  {
   "cell_type": "code",
   "execution_count": 6,
   "id": "717aa50e",
   "metadata": {
    "ExecuteTime": {
     "end_time": "2023-08-19T12:21:15.518480Z",
     "start_time": "2023-08-19T12:21:15.509024Z"
    }
   },
   "outputs": [],
   "source": [
    "class Solution:\n",
    "    def uniquePaths(self, m: int, n: int) -> int:\n",
    "        dp = [1]*n\n",
    "        print(dp)\n",
    "        for i in range(1, m):\n",
    "            for j in range(1, n):\n",
    "                # up (prev) + left\n",
    "                dp[j] = dp[j] + dp[j-1]\n",
    "            print(dp)\n",
    "        return dp[-1]"
   ]
  },
  {
   "cell_type": "code",
   "execution_count": 7,
   "id": "03ed24a0",
   "metadata": {
    "ExecuteTime": {
     "end_time": "2023-08-19T12:21:16.642026Z",
     "start_time": "2023-08-19T12:21:16.631184Z"
    }
   },
   "outputs": [
    {
     "name": "stdout",
     "output_type": "stream",
     "text": [
      "[1, 1, 1, 1, 1, 1, 1]\n",
      "[1, 2, 3, 4, 5, 6, 7]\n",
      "[1, 3, 6, 10, 15, 21, 28]\n"
     ]
    },
    {
     "data": {
      "text/plain": [
       "28"
      ]
     },
     "execution_count": 7,
     "metadata": {},
     "output_type": "execute_result"
    }
   ],
   "source": [
    "sln = Solution()\n",
    "sln.uniquePaths(3, 7)"
   ]
  },
  {
   "cell_type": "markdown",
   "id": "0c67175f",
   "metadata": {},
   "source": [
    "## 排列组合"
   ]
  },
  {
   "cell_type": "markdown",
   "id": "7f509033",
   "metadata": {},
   "source": [
    "- 往右6步，向下2步，一共8步；"
   ]
  },
  {
   "cell_type": "code",
   "execution_count": 9,
   "id": "777086a8",
   "metadata": {
    "ExecuteTime": {
     "end_time": "2023-08-19T12:22:19.343581Z",
     "start_time": "2023-08-19T12:22:19.335652Z"
    }
   },
   "outputs": [],
   "source": [
    "import math\n",
    "class Solution:\n",
    "    def uniquePaths(self, m: int, n: int) -> int:\n",
    "#         return math.comb(m-1+n-1, m-1)\n",
    "        return math.comb(m-1+n-1, n-1)"
   ]
  },
  {
   "cell_type": "code",
   "execution_count": 10,
   "id": "0ddb2570",
   "metadata": {
    "ExecuteTime": {
     "end_time": "2023-08-19T12:22:28.473597Z",
     "start_time": "2023-08-19T12:22:28.463465Z"
    }
   },
   "outputs": [
    {
     "data": {
      "text/plain": [
       "28"
      ]
     },
     "execution_count": 10,
     "metadata": {},
     "output_type": "execute_result"
    }
   ],
   "source": [
    "sln = Solution()\n",
    "sln.uniquePaths(3, 7)"
   ]
  },
  {
   "cell_type": "code",
   "execution_count": null,
   "id": "b50ee1d4",
   "metadata": {},
   "outputs": [],
   "source": []
  }
 ],
 "metadata": {
  "kernelspec": {
   "display_name": "Python 3 (ipykernel)",
   "language": "python",
   "name": "python3"
  },
  "language_info": {
   "codemirror_mode": {
    "name": "ipython",
    "version": 3
   },
   "file_extension": ".py",
   "mimetype": "text/x-python",
   "name": "python",
   "nbconvert_exporter": "python",
   "pygments_lexer": "ipython3",
   "version": "3.10.9"
  },
  "toc": {
   "base_numbering": 1,
   "nav_menu": {},
   "number_sections": true,
   "sideBar": true,
   "skip_h1_title": false,
   "title_cell": "Table of Contents",
   "title_sidebar": "Contents",
   "toc_cell": false,
   "toc_position": {},
   "toc_section_display": true,
   "toc_window_display": false
  }
 },
 "nbformat": 4,
 "nbformat_minor": 5
}
