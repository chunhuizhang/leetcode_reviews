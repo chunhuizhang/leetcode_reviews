{
 "cells": [
  {
   "cell_type": "markdown",
   "id": "9cbb9aa3",
   "metadata": {},
   "source": [
    "## 二次幂"
   ]
  },
  {
   "cell_type": "markdown",
   "id": "d714dc38",
   "metadata": {},
   "source": [
    "- 二次幂\n",
    "$$\n",
    "n \\& (n-1) == 0\n",
    "$$\n",
    "    - 两数取 and 结果为 0，说明各个位上取值不可能同时为1，或者 0 & 0，或者 1 & 0（0 & 1）\n",
    "    - 2的幂：首位为1，其余为0，自然2的幂减1，首位为0，其余为1"
   ]
  },
  {
   "cell_type": "markdown",
   "id": "9132079e",
   "metadata": {},
   "source": [
    "## count 尾部的 0 "
   ]
  },
  {
   "cell_type": "markdown",
   "id": "03fd2b5d",
   "metadata": {},
   "source": [
    "```\n",
    "def countTrailingZero(x):\n",
    "    count = 0\n",
    "    while ((x & 1) == 0):\n",
    "        x = x >> 1\n",
    "        count += 1\n",
    "     \n",
    "    return count\n",
    "```"
   ]
  }
 ],
 "metadata": {
  "kernelspec": {
   "display_name": "Python 3 (ipykernel)",
   "language": "python",
   "name": "python3"
  },
  "language_info": {
   "codemirror_mode": {
    "name": "ipython",
    "version": 3
   },
   "file_extension": ".py",
   "mimetype": "text/x-python",
   "name": "python",
   "nbconvert_exporter": "python",
   "pygments_lexer": "ipython3",
   "version": "3.10.9"
  },
  "toc": {
   "base_numbering": 1,
   "nav_menu": {},
   "number_sections": true,
   "sideBar": true,
   "skip_h1_title": false,
   "title_cell": "Table of Contents",
   "title_sidebar": "Contents",
   "toc_cell": false,
   "toc_position": {},
   "toc_section_display": true,
   "toc_window_display": false
  }
 },
 "nbformat": 4,
 "nbformat_minor": 5
}
