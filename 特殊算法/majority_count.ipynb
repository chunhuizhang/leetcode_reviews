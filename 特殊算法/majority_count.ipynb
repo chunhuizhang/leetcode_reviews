{
 "cells": [
  {
   "cell_type": "code",
   "execution_count": 1,
   "id": "d7523f88",
   "metadata": {
    "ExecuteTime": {
     "end_time": "2023-09-07T12:49:52.325301Z",
     "start_time": "2023-09-07T12:49:52.308949Z"
    }
   },
   "outputs": [],
   "source": [
    "from typing import List"
   ]
  },
  {
   "cell_type": "markdown",
   "id": "1558e310",
   "metadata": {},
   "source": [
    "## basics"
   ]
  },
  {
   "cell_type": "markdown",
   "id": "4fc6088d",
   "metadata": {},
   "source": [
    "- 数学上叫众数（mode）\n",
    "- Boyer-Moore Majority Vote algorithm,\n",
    "    - https://www.cs.utexas.edu/users/moore/best-ideas/mjrty/index.html\n",
    "    - one pass：一次for循环，O(1) 的时间复杂度\n",
    "    - 空间复杂度也是 O(1)"
   ]
  },
  {
   "cell_type": "markdown",
   "id": "887e9002",
   "metadata": {},
   "source": [
    "## 169. Majority Element\n"
   ]
  },
  {
   "cell_type": "markdown",
   "id": "9e576ed4",
   "metadata": {},
   "source": [
    "- 出现次数超过 n/2 的 element，一定是出现最多的 element\n",
    "    - 反之不成立：[1, 1, 2, 2, 3, 3, 3, 4]\n",
    "        - 3 出现三次，但 n/2 == 4\n",
    "- multiple same majority 会有问题\n",
    "    - [1, 1, 2, 2, 3, 3, 3, 4, 4, 4] ==> 3\n",
    "    - [1, 1, 2, 2, 3, 3, 3, 4, 4, 4, 1] ==> 1\n",
    "    - [1, 1, 2, 2, 3, 3, 3, 4, 4, 4, 5] ==> 5"
   ]
  },
  {
   "cell_type": "code",
   "execution_count": 21,
   "id": "1b963420",
   "metadata": {
    "ExecuteTime": {
     "end_time": "2023-09-07T13:49:23.210620Z",
     "start_time": "2023-09-07T13:49:23.202244Z"
    }
   },
   "outputs": [],
   "source": [
    "class Solution:\n",
    "    def majorityElement(self, nums: List[int]) -> int:\n",
    "        major = nums[0]\n",
    "        cnt = 0\n",
    "        # one path: means linear time\n",
    "        for num in nums:\n",
    "            if cnt == 0:\n",
    "                major = num\n",
    "            if num == major:\n",
    "                cnt += 1\n",
    "            else:\n",
    "                cnt -= 1\n",
    "        return major"
   ]
  },
  {
   "cell_type": "code",
   "execution_count": 22,
   "id": "660a3ea1",
   "metadata": {
    "ExecuteTime": {
     "end_time": "2023-09-07T13:49:24.380692Z",
     "start_time": "2023-09-07T13:49:24.370315Z"
    }
   },
   "outputs": [
    {
     "data": {
      "text/plain": [
       "3"
      ]
     },
     "execution_count": 22,
     "metadata": {},
     "output_type": "execute_result"
    }
   ],
   "source": [
    "sln = Solution()\n",
    "sln.majorityElement([1, 1, 2, 2, 3, 3, 3, 4])"
   ]
  },
  {
   "cell_type": "code",
   "execution_count": 23,
   "id": "692d2362",
   "metadata": {
    "ExecuteTime": {
     "end_time": "2023-09-07T13:49:25.544396Z",
     "start_time": "2023-09-07T13:49:25.533901Z"
    }
   },
   "outputs": [
    {
     "data": {
      "text/plain": [
       "1"
      ]
     },
     "execution_count": 23,
     "metadata": {},
     "output_type": "execute_result"
    }
   ],
   "source": [
    "sln = Solution()\n",
    "sln.majorityElement([1, 1, 2, 2, 3, 3, 3, 4, 4, 4, 1])"
   ]
  },
  {
   "cell_type": "code",
   "execution_count": 24,
   "id": "5edf60f7",
   "metadata": {
    "ExecuteTime": {
     "end_time": "2023-09-07T13:49:26.694317Z",
     "start_time": "2023-09-07T13:49:26.683976Z"
    }
   },
   "outputs": [
    {
     "data": {
      "text/plain": [
       "5"
      ]
     },
     "execution_count": 24,
     "metadata": {},
     "output_type": "execute_result"
    }
   ],
   "source": [
    "sln = Solution()\n",
    "sln.majorityElement([1, 1, 2, 2, 3, 3, 3, 4, 4, 4, 5])"
   ]
  },
  {
   "cell_type": "markdown",
   "id": "f0f0f681",
   "metadata": {},
   "source": [
    "## 2404. Most Frequent Even Element\n"
   ]
  },
  {
   "cell_type": "code",
   "execution_count": 5,
   "id": "83466ad2",
   "metadata": {
    "ExecuteTime": {
     "end_time": "2023-09-07T13:15:31.531981Z",
     "start_time": "2023-09-07T13:15:31.525103Z"
    }
   },
   "outputs": [],
   "source": [
    "# 如果不要求 same count 最小的数的话\n",
    "\n",
    "class Solution:\n",
    "    def mostFrequentEven(self, nums: List[int]) -> int:\n",
    "        major = nums[0]\n",
    "        cnt = 0\n",
    "        # one path: means linear time\n",
    "        for num in nums:\n",
    "            # 加这一行就够了，过滤非偶数\n",
    "            if num % 2 != 0:\n",
    "                continue \n",
    "            if cnt == 0:\n",
    "                major = num\n",
    "            if num == major:\n",
    "                cnt += 1\n",
    "            else:\n",
    "                cnt -= 1\n",
    "        return major"
   ]
  },
  {
   "cell_type": "code",
   "execution_count": 4,
   "id": "6b73c05c",
   "metadata": {
    "ExecuteTime": {
     "end_time": "2023-09-07T13:12:18.751140Z",
     "start_time": "2023-09-07T13:12:18.738255Z"
    }
   },
   "outputs": [],
   "source": [
    "from collections import defaultdict\n",
    "\n",
    "class Solution:\n",
    "    def mostFrequentEven(self, nums: List[int]) -> int:\n",
    "        most = -1\n",
    "        freq = 0\n",
    "        mp = defaultdict(int)\n",
    "        for num in nums:\n",
    "            if num % 2 != 0:\n",
    "                continue\n",
    "            mp[num] += 1\n",
    "            # online update\n",
    "            if mp[num] > freq or (mp[num] == freq and num < most):\n",
    "                freq = mp[num]\n",
    "                most = num\n",
    "        return most"
   ]
  }
 ],
 "metadata": {
  "kernelspec": {
   "display_name": "Python 3 (ipykernel)",
   "language": "python",
   "name": "python3"
  },
  "language_info": {
   "codemirror_mode": {
    "name": "ipython",
    "version": 3
   },
   "file_extension": ".py",
   "mimetype": "text/x-python",
   "name": "python",
   "nbconvert_exporter": "python",
   "pygments_lexer": "ipython3",
   "version": "3.10.9"
  },
  "toc": {
   "base_numbering": 1,
   "nav_menu": {},
   "number_sections": true,
   "sideBar": true,
   "skip_h1_title": false,
   "title_cell": "Table of Contents",
   "title_sidebar": "Contents",
   "toc_cell": false,
   "toc_position": {},
   "toc_section_display": true,
   "toc_window_display": false
  }
 },
 "nbformat": 4,
 "nbformat_minor": 5
}
