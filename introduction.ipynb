{
 "cells": [
  {
   "cell_type": "markdown",
   "id": "313d4149",
   "metadata": {},
   "source": [
    "## leetcode 意义"
   ]
  },
  {
   "cell_type": "markdown",
   "id": "adecb55e",
   "metadata": {},
   "source": [
    "- 除了应试\n",
    "- 计算机科学思维\n",
    "    - 计算之魂\n",
    "        - 递归\n",
    "        - 分治：大问题变成小问题\n",
    "        - 动态规划：缓存\n",
    "        - 高阶数据结构，数据结构+算法\n",
    "        - 时间空间复杂度分析\n",
    "- 软件工程素养\n",
    "    - 边界条件判断\n",
    "        - leetcode testcases 包含大量的 corner cases；"
   ]
  },
  {
   "cell_type": "markdown",
   "id": "e633316b",
   "metadata": {},
   "source": [
    "## 回溯与递归"
   ]
  },
  {
   "cell_type": "markdown",
   "id": "eaf51391",
   "metadata": {},
   "source": [
    "## 动态规划"
   ]
  },
  {
   "cell_type": "markdown",
   "id": "b44e1e50",
   "metadata": {},
   "source": [
    "- 二维到一维dp，降低空间复杂度\n",
    "    - 62. Unique Paths"
   ]
  },
  {
   "cell_type": "markdown",
   "id": "a8e003d3",
   "metadata": {},
   "source": [
    "## 数学 solution"
   ]
  },
  {
   "cell_type": "markdown",
   "id": "00b63295",
   "metadata": {},
   "source": [
    "- 排列组合\n",
    "    - 62. Unique Paths"
   ]
  }
 ],
 "metadata": {
  "kernelspec": {
   "display_name": "Python 3 (ipykernel)",
   "language": "python",
   "name": "python3"
  },
  "language_info": {
   "codemirror_mode": {
    "name": "ipython",
    "version": 3
   },
   "file_extension": ".py",
   "mimetype": "text/x-python",
   "name": "python",
   "nbconvert_exporter": "python",
   "pygments_lexer": "ipython3",
   "version": "3.10.9"
  },
  "toc": {
   "base_numbering": 1,
   "nav_menu": {},
   "number_sections": true,
   "sideBar": true,
   "skip_h1_title": false,
   "title_cell": "Table of Contents",
   "title_sidebar": "Contents",
   "toc_cell": false,
   "toc_position": {},
   "toc_section_display": true,
   "toc_window_display": false
  }
 },
 "nbformat": 4,
 "nbformat_minor": 5
}
