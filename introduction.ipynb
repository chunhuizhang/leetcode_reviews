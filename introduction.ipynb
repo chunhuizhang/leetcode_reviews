{
 "cells": [
  {
   "cell_type": "markdown",
   "id": "313d4149",
   "metadata": {},
   "source": [
    "## leetcode 意义"
   ]
  },
  {
   "cell_type": "markdown",
   "id": "adecb55e",
   "metadata": {},
   "source": [
    "- 除了应试，读懂更好的代码，写出更好的代码\n",
    "- 计算机科学思维\n",
    "    - 计算之魂\n",
    "        - 递归（recursion）与回溯（backtrack）\n",
    "        - 分治：大问题变成小问题\n",
    "        - 动态规划：缓存\n",
    "        - 搜索：bfs、dfs\n",
    "        - 高阶数据结构，数据结构+算法\n",
    "        - 时间空间复杂度分析\n",
    "        - 数学基础与技巧\n",
    "            - 生成函数（离散数学）；\n",
    "            - 排列组合；\n",
    "            - 。。。\n",
    "- 软件工程素养\n",
    "    - 边界条件判断\n",
    "        - leetcode testcases 包含大量的 corner cases；\n",
    "- 刷题方法\n",
    "    - 拉长时间周期\n",
    "        - 一天一道，一年也能 cover 一大半经典题目了；\n",
    "    - 常刷常新\n",
    "        - 越刷越熟练，相当于不断在 cache\n",
    "        - 不断拓展新的思路\n",
    "        "
   ]
  },
  {
   "cell_type": "markdown",
   "id": "538a5f8e",
   "metadata": {},
   "source": [
    "## 参考"
   ]
  },
  {
   "cell_type": "markdown",
   "id": "404775e2",
   "metadata": {},
   "source": [
    "- 吴军老师《计算思维》\n",
    "- 《Python算法教程》\n",
    "- 《算法问题实战策略》"
   ]
  }
 ],
 "metadata": {
  "kernelspec": {
   "display_name": "Python 3 (ipykernel)",
   "language": "python",
   "name": "python3"
  },
  "language_info": {
   "codemirror_mode": {
    "name": "ipython",
    "version": 3
   },
   "file_extension": ".py",
   "mimetype": "text/x-python",
   "name": "python",
   "nbconvert_exporter": "python",
   "pygments_lexer": "ipython3",
   "version": "3.10.9"
  },
  "toc": {
   "base_numbering": 1,
   "nav_menu": {},
   "number_sections": true,
   "sideBar": true,
   "skip_h1_title": false,
   "title_cell": "Table of Contents",
   "title_sidebar": "Contents",
   "toc_cell": false,
   "toc_position": {},
   "toc_section_display": true,
   "toc_window_display": false
  }
 },
 "nbformat": 4,
 "nbformat_minor": 5
}
