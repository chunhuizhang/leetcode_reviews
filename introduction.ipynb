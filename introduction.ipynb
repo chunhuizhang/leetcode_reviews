{
 "cells": [
  {
   "cell_type": "markdown",
   "id": "313d4149",
   "metadata": {},
   "source": [
    "## leetcode 意义"
   ]
  },
  {
   "cell_type": "markdown",
   "id": "adecb55e",
   "metadata": {},
   "source": [
    "- 除了应试，读懂更好的代码，写出更好的代码\n",
    "    - coding 不过，减分很多；\n",
    "    - coding 过了，加分很多；\n",
    "- 智力和各种计算能力的锻炼；\n",
    "- 计算思维（计算机科学 computer science）\n",
    "\n",
    "    - 递归（recursion）与回溯（backtrack）\n",
    "        - 递归，自己调用自己（当然问题的规模在变小）\n",
    "    - 分治：大问题变成小问题\n",
    "    - 动态规划：缓存（cache）\n",
    "        - 缓存的对象是已经计算得到的 kv（$v=f(k)$）\n",
    "    - 搜索和排序：bfs、dfs\n",
    "    - 高阶数据结构，数据结构+算法\n",
    "    - 时间空间复杂度分析\n",
    "    - 数学基础与技巧\n",
    "        - 生成函数（离散数学）；\n",
    "        - 排列组合；\n",
    "        - 。。。\n",
    "- 软件工程素养\n",
    "    - 边界条件判断\n",
    "        - leetcode testcases 包含大量的 corner cases；\n",
    "- 刷题方法\n",
    "    - 拉长时间周期\n",
    "        - 一天一道，一年也能 cover 一大半经典题目了；\n",
    "    - 常刷常新\n",
    "        - 越刷越熟练，相当于不断在 cache\n",
    "        - 不断拓展新的思路，追求更优的 solution；\n",
    "        "
   ]
  },
  {
   "cell_type": "markdown",
   "id": "fab8bf63",
   "metadata": {},
   "source": [
    "- 0901 update\n",
    "    - 由点及面，逐步系统化；\n",
    "    - 日常计算问题，能够对应到经典的题目的经典的 solution 上；深化从原理到应用，从应用到原理的双向理解；\n",
    "        - 要能识别应用中的计算问题，比如一组偏序数据能不能构成是否会形成一个环（没法比较大小），其实对应着计算中的topo排序问题；"
   ]
  },
  {
   "cell_type": "markdown",
   "id": "f2a5b248",
   "metadata": {},
   "source": [
    "## 参考"
   ]
  },
  {
   "cell_type": "markdown",
   "id": "f4e2a882",
   "metadata": {},
   "source": [
    "- 为什么伟大不能被计算\n",
    "    - objective function，目标函数，与优化和搜索\n",
    "- 吴军老师《计算之魂》\n",
    "- 《Python算法教程》\n",
    "- 《算法问题实战策略》\n",
    "- 《编程之美 - 微软技术面试心得》\n",
    "- 《程序员面试金典（第6版）》"
   ]
  }
 ],
 "metadata": {
  "kernelspec": {
   "display_name": "Python 3 (ipykernel)",
   "language": "python",
   "name": "python3"
  },
  "language_info": {
   "codemirror_mode": {
    "name": "ipython",
    "version": 3
   },
   "file_extension": ".py",
   "mimetype": "text/x-python",
   "name": "python",
   "nbconvert_exporter": "python",
   "pygments_lexer": "ipython3",
   "version": "3.9.13"
  },
  "toc": {
   "base_numbering": 1,
   "nav_menu": {},
   "number_sections": true,
   "sideBar": true,
   "skip_h1_title": false,
   "title_cell": "Table of Contents",
   "title_sidebar": "Contents",
   "toc_cell": false,
   "toc_position": {},
   "toc_section_display": true,
   "toc_window_display": false
  }
 },
 "nbformat": 4,
 "nbformat_minor": 5
}
