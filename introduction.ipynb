{
 "cells": [
  {
   "cell_type": "markdown",
   "id": "e633316b",
   "metadata": {},
   "source": [
    "## 回溯与递归"
   ]
  },
  {
   "cell_type": "markdown",
   "id": "eaf51391",
   "metadata": {},
   "source": [
    "## 动态规划"
   ]
  },
  {
   "cell_type": "markdown",
   "id": "b44e1e50",
   "metadata": {},
   "source": [
    "- 二维到一维dp，降低空间复杂度\n",
    "    - 62. Unique Paths"
   ]
  },
  {
   "cell_type": "markdown",
   "id": "a8e003d3",
   "metadata": {},
   "source": [
    "## 数学 solution"
   ]
  },
  {
   "cell_type": "markdown",
   "id": "00b63295",
   "metadata": {},
   "source": [
    "- 排列组合\n",
    "    - 62. Unique Paths"
   ]
  }
 ],
 "metadata": {
  "kernelspec": {
   "display_name": "Python 3 (ipykernel)",
   "language": "python",
   "name": "python3"
  },
  "language_info": {
   "codemirror_mode": {
    "name": "ipython",
    "version": 3
   },
   "file_extension": ".py",
   "mimetype": "text/x-python",
   "name": "python",
   "nbconvert_exporter": "python",
   "pygments_lexer": "ipython3",
   "version": "3.10.9"
  },
  "toc": {
   "base_numbering": 1,
   "nav_menu": {},
   "number_sections": true,
   "sideBar": true,
   "skip_h1_title": false,
   "title_cell": "Table of Contents",
   "title_sidebar": "Contents",
   "toc_cell": false,
   "toc_position": {},
   "toc_section_display": true,
   "toc_window_display": false
  }
 },
 "nbformat": 4,
 "nbformat_minor": 5
}
