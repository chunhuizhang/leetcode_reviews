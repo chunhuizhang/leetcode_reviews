{
 "cells": [
  {
   "cell_type": "markdown",
   "id": "590499c1",
   "metadata": {},
   "source": [
    "- 蓄水池抽样（Reservoir Sampling）是一种处理大规模数据或流式数据的随机抽样方法。"
   ]
  },
  {
   "cell_type": "markdown",
   "id": "07427cd1",
   "metadata": {},
   "source": [
    "在容量为 $m$ 的蓄水池中，当处理到第 $i$ 个元素时，需要决定是否将其包含在样本中。\n",
    "- 当 $i\\leq m$ 时：在这个阶段，所有遇到的元素都会被直接加入蓄水池，因为蓄水池还没有被填满。因此，在这个阶段，每个元素被抽样的概率是 100%，即它们都会被选中。\n",
    "- 当 $i>m$ 时：这时蓄水池已经满了，需要决定是否用新的元素替换蓄水池中已有的元素。对于第 $i$ 个元素，首先以 $m/i$ 的概率决定是否选择这个元素。如果决定选择它，接下来随机选择蓄水池中的一个元素进行替换。这样做可以保证每个元素被选中的概率是公平的。"
   ]
  },
  {
   "cell_type": "markdown",
   "id": "5120dc04",
   "metadata": {},
   "source": [
    "- 当 $i=m+1$ 时，\n",
    "    - 被选择的概率为 $\\frac{m}{m+1}$\n",
    "    - 不被选择的概率为 $1-\\frac m{m+1}=\\frac1m$\n",
    "    - 此时考虑 $m$ 中的任意位置，假如 $k$，其被替换的概率为\n",
    "        - $\\frac{m}{m+1}\\frac{1}m=\\frac1{m+1}$\n",
    "        - 也即其被保留的概率为 $\\frac{m}{m+1}$"
   ]
  }
 ],
 "metadata": {
  "kernelspec": {
   "display_name": "Python 3 (ipykernel)",
   "language": "python",
   "name": "python3"
  },
  "language_info": {
   "codemirror_mode": {
    "name": "ipython",
    "version": 3
   },
   "file_extension": ".py",
   "mimetype": "text/x-python",
   "name": "python",
   "nbconvert_exporter": "python",
   "pygments_lexer": "ipython3",
   "version": "3.10.13"
  },
  "toc": {
   "base_numbering": 1,
   "nav_menu": {},
   "number_sections": true,
   "sideBar": true,
   "skip_h1_title": false,
   "title_cell": "Table of Contents",
   "title_sidebar": "Contents",
   "toc_cell": false,
   "toc_position": {},
   "toc_section_display": true,
   "toc_window_display": false
  }
 },
 "nbformat": 4,
 "nbformat_minor": 5
}
