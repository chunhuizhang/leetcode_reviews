{
 "cells": [
  {
   "cell_type": "markdown",
   "id": "261efcb4",
   "metadata": {},
   "source": [
    "## basics"
   ]
  },
  {
   "cell_type": "markdown",
   "id": "396ed602",
   "metadata": {},
   "source": [
    "- 三位一体：Trinity\n",
    "    - 三角是一个稳定的结构\n",
    "    - 三位一体：科研，工程与军事；"
   ]
  },
  {
   "cell_type": "markdown",
   "id": "e08736cf",
   "metadata": {},
   "source": [
    "### 行"
   ]
  },
  {
   "cell_type": "markdown",
   "id": "ffda8063",
   "metadata": {},
   "source": [
    "- 行和\n",
    "```\n",
    "       1=1\n",
    "      1+1=2\n",
    "     1+2+1=4\n",
    "    1+3+3+1=8\n",
    "   1+4+6+4+1=16\n",
    "  1+5+10+10+5+1=32\n",
    " 1+6+15+20+15+6+1=64\n",
    "```\n",
    "- 每一行都是二项式展开的系数\n",
    "    - $(x+y)^2=x^2+2xy+y^2$\n",
    "    - $(x+y)^3=x^3+3x^2y+3y^2x+y^3$\n",
    "    - $(x+y)^4=$\n"
   ]
  },
  {
   "cell_type": "code",
   "execution_count": 2,
   "id": "ee56390c",
   "metadata": {
    "ExecuteTime": {
     "end_time": "2023-08-30T14:51:27.950316Z",
     "start_time": "2023-08-30T14:51:27.944578Z"
    }
   },
   "outputs": [],
   "source": [
    "from sympy.abc import x, y\n",
    "from sympy import expand"
   ]
  },
  {
   "cell_type": "code",
   "execution_count": 3,
   "id": "f5596612",
   "metadata": {
    "ExecuteTime": {
     "end_time": "2023-08-30T14:51:36.303272Z",
     "start_time": "2023-08-30T14:51:36.043866Z"
    }
   },
   "outputs": [
    {
     "data": {
      "text/latex": [
       "$\\displaystyle x^{4} + 4 x^{3} y + 6 x^{2} y^{2} + 4 x y^{3} + y^{4}$"
      ],
      "text/plain": [
       "x**4 + 4*x**3*y + 6*x**2*y**2 + 4*x*y**3 + y**4"
      ]
     },
     "execution_count": 3,
     "metadata": {},
     "output_type": "execute_result"
    }
   ],
   "source": [
    "expand((x+y)**4)"
   ]
  },
  {
   "cell_type": "code",
   "execution_count": 4,
   "id": "8a19584b",
   "metadata": {
    "ExecuteTime": {
     "end_time": "2023-08-30T14:51:47.395985Z",
     "start_time": "2023-08-30T14:51:47.385642Z"
    }
   },
   "outputs": [
    {
     "data": {
      "text/latex": [
       "$\\displaystyle x^{5} + 5 x^{4} y + 10 x^{3} y^{2} + 10 x^{2} y^{3} + 5 x y^{4} + y^{5}$"
      ],
      "text/plain": [
       "x**5 + 5*x**4*y + 10*x**3*y**2 + 10*x**2*y**3 + 5*x*y**4 + y**5"
      ]
     },
     "execution_count": 4,
     "metadata": {},
     "output_type": "execute_result"
    }
   ],
   "source": [
    "expand((x+y)**5)"
   ]
  },
  {
   "cell_type": "code",
   "execution_count": 5,
   "id": "ab421c76",
   "metadata": {
    "ExecuteTime": {
     "end_time": "2023-08-30T14:51:57.542151Z",
     "start_time": "2023-08-30T14:51:57.520558Z"
    }
   },
   "outputs": [
    {
     "data": {
      "text/latex": [
       "$\\displaystyle x^{6} + 6 x^{5} y + 15 x^{4} y^{2} + 20 x^{3} y^{3} + 15 x^{2} y^{4} + 6 x y^{5} + y^{6}$"
      ],
      "text/plain": [
       "x**6 + 6*x**5*y + 15*x**4*y**2 + 20*x**3*y**3 + 15*x**2*y**4 + 6*x*y**5 + y**6"
      ]
     },
     "execution_count": 5,
     "metadata": {},
     "output_type": "execute_result"
    }
   ],
   "source": [
    "expand((x+y)**6)"
   ]
  },
  {
   "cell_type": "markdown",
   "id": "734be30a",
   "metadata": {},
   "source": [
    "### 三角数"
   ]
  },
  {
   "cell_type": "markdown",
   "id": "5597f10e",
   "metadata": {},
   "source": [
    "- 三角数\n",
    "    - 1, 3, 6, 10, 15, 21\n",
    "        - 3 = 1+2\n",
    "        - 6  =  3+3 = 1+2+3\n",
    "        - 10 =  6+4 = 1+2+3+4\n",
    "        - 15 = 10+5 = 1+2+3+4+5\n",
    "        - 21 = 15+6 = 1+2+3+4+5+6"
   ]
  },
  {
   "cell_type": "markdown",
   "id": "072d9be2",
   "metadata": {},
   "source": [
    "### 四面体数"
   ]
  },
  {
   "cell_type": "markdown",
   "id": "3abd2e6a",
   "metadata": {},
   "source": [
    "- 四面体数\n",
    "    - 1, 4, 10, 20, 35\n",
    "        - 4 = 1+(1+2)\n",
    "        - 10 = 1+(1+2)+(1+2+3)\n",
    "        - 20 = 1+(1+2)+(1+2+3)+(1+2+3+4)\n",
    "        - 35 = 1+(1+2)+(1+2+3)+(1+2+3+4)+(1+2+3+4+5)\n"
   ]
  },
  {
   "cell_type": "markdown",
   "id": "a766e681",
   "metadata": {},
   "source": [
    "## 杨辉三角"
   ]
  }
 ],
 "metadata": {
  "kernelspec": {
   "display_name": "Python 3 (ipykernel)",
   "language": "python",
   "name": "python3"
  },
  "language_info": {
   "codemirror_mode": {
    "name": "ipython",
    "version": 3
   },
   "file_extension": ".py",
   "mimetype": "text/x-python",
   "name": "python",
   "nbconvert_exporter": "python",
   "pygments_lexer": "ipython3",
   "version": "3.10.9"
  },
  "toc": {
   "base_numbering": 1,
   "nav_menu": {},
   "number_sections": true,
   "sideBar": true,
   "skip_h1_title": false,
   "title_cell": "Table of Contents",
   "title_sidebar": "Contents",
   "toc_cell": false,
   "toc_position": {},
   "toc_section_display": true,
   "toc_window_display": false
  }
 },
 "nbformat": 4,
 "nbformat_minor": 5
}
