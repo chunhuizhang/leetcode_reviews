{
 "cells": [
  {
   "cell_type": "code",
   "execution_count": 1,
   "id": "703465be",
   "metadata": {
    "ExecuteTime": {
     "end_time": "2023-08-31T15:26:13.365998Z",
     "start_time": "2023-08-31T15:26:13.349701Z"
    }
   },
   "outputs": [],
   "source": [
    "from typing import List"
   ]
  },
  {
   "cell_type": "markdown",
   "id": "74cd84e5",
   "metadata": {},
   "source": [
    "## basics"
   ]
  },
  {
   "cell_type": "markdown",
   "id": "be454ab6",
   "metadata": {},
   "source": [
    "- 基于测试用例，找计算思路\n",
    "    - 4, 2, 0, 3, 2, 2\n",
    "    - 4, 2, 0, 3, 2, 5"
   ]
  },
  {
   "cell_type": "markdown",
   "id": "c3c1ef4d",
   "metadata": {},
   "source": [
    "## 42. Trapping Rain Water\n"
   ]
  },
  {
   "cell_type": "code",
   "execution_count": 2,
   "id": "8da17950",
   "metadata": {
    "ExecuteTime": {
     "end_time": "2023-08-31T15:26:14.457169Z",
     "start_time": "2023-08-31T15:26:14.450117Z"
    }
   },
   "outputs": [],
   "source": [
    "class Solution:\n",
    "    def trap(self, height: List[int]) -> int:\n",
    "        lo, hi = 0, len(height) - 1\n",
    "        loMax, hiMax = 0, 0\n",
    "        res = 0\n",
    "        while lo < hi:\n",
    "            loMax = max(loMax, height[lo])\n",
    "            hiMax = max(hiMax, height[hi])\n",
    "            if loMax < hiMax:\n",
    "                res += loMax - height[lo]\n",
    "                lo += 1\n",
    "            else:\n",
    "                res += hiMax - height[hi]\n",
    "                hi -= 1\n",
    "        return res"
   ]
  },
  {
   "cell_type": "code",
   "execution_count": 5,
   "id": "d25ab677",
   "metadata": {
    "ExecuteTime": {
     "end_time": "2023-08-31T15:28:29.815049Z",
     "start_time": "2023-08-31T15:28:29.809810Z"
    }
   },
   "outputs": [],
   "source": [
    "sln = Solution()"
   ]
  },
  {
   "cell_type": "code",
   "execution_count": 7,
   "id": "e1ce7e91",
   "metadata": {
    "ExecuteTime": {
     "end_time": "2023-08-31T15:29:06.205019Z",
     "start_time": "2023-08-31T15:29:06.196545Z"
    }
   },
   "outputs": [
    {
     "data": {
      "text/plain": [
       "4"
      ]
     },
     "execution_count": 7,
     "metadata": {},
     "output_type": "execute_result"
    }
   ],
   "source": [
    "# 0, 0, 0, 3, 1, 0: from right to left\n",
    "sln.trap([4, 2, 0, 3, 2, 2])"
   ]
  },
  {
   "cell_type": "code",
   "execution_count": 8,
   "id": "74626124",
   "metadata": {
    "ExecuteTime": {
     "end_time": "2023-08-31T15:29:18.845841Z",
     "start_time": "2023-08-31T15:29:18.834580Z"
    }
   },
   "outputs": [
    {
     "data": {
      "text/plain": [
       "9"
      ]
     },
     "execution_count": 8,
     "metadata": {},
     "output_type": "execute_result"
    }
   ],
   "source": [
    "# from left tot right\n",
    "# 0, 2, 4, 1, 2, 0\n",
    "sln.trap([4, 2, 0, 3, 2, 5])"
   ]
  }
 ],
 "metadata": {
  "kernelspec": {
   "display_name": "Python 3 (ipykernel)",
   "language": "python",
   "name": "python3"
  },
  "language_info": {
   "codemirror_mode": {
    "name": "ipython",
    "version": 3
   },
   "file_extension": ".py",
   "mimetype": "text/x-python",
   "name": "python",
   "nbconvert_exporter": "python",
   "pygments_lexer": "ipython3",
   "version": "3.10.9"
  },
  "toc": {
   "base_numbering": 1,
   "nav_menu": {},
   "number_sections": true,
   "sideBar": true,
   "skip_h1_title": false,
   "title_cell": "Table of Contents",
   "title_sidebar": "Contents",
   "toc_cell": false,
   "toc_position": {},
   "toc_section_display": true,
   "toc_window_display": false
  }
 },
 "nbformat": 4,
 "nbformat_minor": 5
}
