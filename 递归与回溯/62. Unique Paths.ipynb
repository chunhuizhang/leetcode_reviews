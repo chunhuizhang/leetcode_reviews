{
 "cells": [
  {
   "cell_type": "markdown",
   "id": "0facbe5f",
   "metadata": {},
   "source": [
    "## dfs"
   ]
  },
  {
   "cell_type": "code",
   "execution_count": 1,
   "id": "c575623a",
   "metadata": {
    "ExecuteTime": {
     "end_time": "2023-08-20T02:16:28.447935Z",
     "start_time": "2023-08-20T02:16:28.425868Z"
    }
   },
   "outputs": [],
   "source": [
    "class Solution:\n",
    "\n",
    "    def uniquePaths(self, m: int, n: int) -> int:\n",
    "        def dfs(i, j):\n",
    "            if i == 0 or j == 0:\n",
    "                return 1\n",
    "            return dfs(i-1, j) + dfs(i, j-1)\n",
    "        return dfs(m-1, n-1)\n"
   ]
  },
  {
   "cell_type": "code",
   "execution_count": 2,
   "id": "b89f4d0b",
   "metadata": {
    "ExecuteTime": {
     "end_time": "2023-08-20T02:16:40.230534Z",
     "start_time": "2023-08-20T02:16:40.214319Z"
    }
   },
   "outputs": [
    {
     "data": {
      "text/plain": [
       "28"
      ]
     },
     "execution_count": 2,
     "metadata": {},
     "output_type": "execute_result"
    }
   ],
   "source": [
    "sln = Solution()\n",
    "sln.uniquePaths(3, 7)"
   ]
  },
  {
   "cell_type": "markdown",
   "id": "2c08bc5a",
   "metadata": {},
   "source": [
    "## cache/dp "
   ]
  },
  {
   "cell_type": "markdown",
   "id": "492c29a3",
   "metadata": {},
   "source": [
    "- 避免重复计算\n",
    "- 复用已计算单元（k,v）\n",
    "\n",
    "$$\n",
    "\\begin{split}\n",
    "&v=f(i,j)\\\\\n",
    "&v = dp[i,j]\n",
    "\\end{split}\n",
    "$$"
   ]
  },
  {
   "cell_type": "code",
   "execution_count": 3,
   "id": "e13cf0ef",
   "metadata": {
    "ExecuteTime": {
     "end_time": "2023-08-20T02:23:48.192230Z",
     "start_time": "2023-08-20T02:23:48.181837Z"
    }
   },
   "outputs": [],
   "source": [
    "class Solution:\n",
    "    def uniquePaths(self, m: int, n: int) -> int:\n",
    "        dp = {}\n",
    "        def dfs(i, j):\n",
    "            if i == 0 or j == 0:\n",
    "                return 1\n",
    "            if (i, j) not in dp:\n",
    "                dp[(i, j)] = dfs(i-1, j) + dfs(i, j-1)\n",
    "            return dp[(i, j)]\n",
    "        return dfs(m-1, n-1)"
   ]
  },
  {
   "cell_type": "markdown",
   "id": "88dab159",
   "metadata": {},
   "source": [
    "### `@cache` decorator"
   ]
  },
  {
   "cell_type": "code",
   "execution_count": 4,
   "id": "ce9190ed",
   "metadata": {
    "ExecuteTime": {
     "end_time": "2023-08-20T02:24:32.747859Z",
     "start_time": "2023-08-20T02:24:32.741534Z"
    }
   },
   "outputs": [],
   "source": [
    "from functools import cache\n",
    "class Solution:\n",
    "    def uniquePaths(self, m: int, n: int) -> int:\n",
    "        @cache\n",
    "        def dfs(i, j):\n",
    "            if i == 0 or j == 0:\n",
    "                return 1\n",
    "            return dfs(i-1, j) + dfs(i, j-1)\n",
    "        return dfs(m-1, n-1)"
   ]
  },
  {
   "cell_type": "code",
   "execution_count": null,
   "id": "0b93ce4c",
   "metadata": {},
   "outputs": [],
   "source": []
  }
 ],
 "metadata": {
  "kernelspec": {
   "display_name": "Python 3 (ipykernel)",
   "language": "python",
   "name": "python3"
  },
  "language_info": {
   "codemirror_mode": {
    "name": "ipython",
    "version": 3
   },
   "file_extension": ".py",
   "mimetype": "text/x-python",
   "name": "python",
   "nbconvert_exporter": "python",
   "pygments_lexer": "ipython3",
   "version": "3.10.9"
  },
  "toc": {
   "base_numbering": 1,
   "nav_menu": {},
   "number_sections": true,
   "sideBar": true,
   "skip_h1_title": false,
   "title_cell": "Table of Contents",
   "title_sidebar": "Contents",
   "toc_cell": false,
   "toc_position": {},
   "toc_section_display": true,
   "toc_window_display": false
  }
 },
 "nbformat": 4,
 "nbformat_minor": 5
}
