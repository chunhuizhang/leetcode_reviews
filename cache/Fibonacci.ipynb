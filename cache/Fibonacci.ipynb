{
 "cells": [
  {
   "cell_type": "code",
   "execution_count": 1,
   "id": "ccd5f666",
   "metadata": {
    "ExecuteTime": {
     "end_time": "2023-08-13T04:32:41.630125Z",
     "start_time": "2023-08-13T04:32:41.611907Z"
    }
   },
   "outputs": [],
   "source": [
    "def fibonacci(n):\n",
    "    # starts from 1, 1, \n",
    "    if n <= 2:\n",
    "        return 1\n",
    "    return fibonacci(n-1) + fibonacci(n-2)"
   ]
  },
  {
   "cell_type": "code",
   "execution_count": 6,
   "id": "369212ec",
   "metadata": {
    "ExecuteTime": {
     "end_time": "2023-08-13T04:35:26.397449Z",
     "start_time": "2023-08-13T04:35:26.386969Z"
    }
   },
   "outputs": [],
   "source": [
    "import time\n",
    "def timer(f):\n",
    "    def wrapper(*args, **kwargs):\n",
    "        t1 = time.time()\n",
    "        result = f(*args, **kwargs)\n",
    "        t2 = time.time()\n",
    "        print(f'{f.__name__} took {t2 - t1} seconds')\n",
    "        return result\n",
    "    return wrapper\n",
    "# @timer\n",
    "def fibonacci(n):\n",
    "    # starts from 1, 1, \n",
    "    if n <= 2:\n",
    "        return 1\n",
    "    return fibonacci(n-1) + fibonacci(n-2)\n",
    "\n",
    "@timer\n",
    "def global_fibonacci(n):\n",
    "    return fibonacci(n)"
   ]
  },
  {
   "cell_type": "code",
   "execution_count": 11,
   "id": "fe64b5b6",
   "metadata": {
    "ExecuteTime": {
     "end_time": "2023-08-13T04:36:23.146909Z",
     "start_time": "2023-08-13T04:36:09.258404Z"
    },
    "scrolled": true
   },
   "outputs": [
    {
     "name": "stdout",
     "output_type": "stream",
     "text": [
      "global_fibonacci took 13.883734226226807 seconds\n"
     ]
    },
    {
     "data": {
      "text/plain": [
       "102334155"
      ]
     },
     "execution_count": 11,
     "metadata": {},
     "output_type": "execute_result"
    }
   ],
   "source": [
    "global_fibonacci(40)"
   ]
  },
  {
   "cell_type": "code",
   "execution_count": 12,
   "id": "2589e0f7",
   "metadata": {
    "ExecuteTime": {
     "end_time": "2023-08-13T04:36:56.969587Z",
     "start_time": "2023-08-13T04:36:56.962590Z"
    }
   },
   "outputs": [],
   "source": [
    "from functools import cache\n",
    "\n",
    "@cache\n",
    "def fibonacci(n):\n",
    "    # starts from 1, 1, \n",
    "    if n <= 2:\n",
    "        return 1\n",
    "    return fibonacci(n-1) + fibonacci(n-2)\n",
    "\n",
    "import time\n",
    "def timer(f):\n",
    "    def wrapper(*args, **kwargs):\n",
    "        t1 = time.time()\n",
    "        result = f(*args, **kwargs)\n",
    "        t2 = time.time()\n",
    "        print(f'{f.__name__} took {t2 - t1} seconds')\n",
    "        return result\n",
    "    return wrapper\n",
    "\n",
    "@timer\n",
    "def global_fibonacci(n):\n",
    "    return fibonacci(n)"
   ]
  },
  {
   "cell_type": "code",
   "execution_count": 13,
   "id": "f6842754",
   "metadata": {
    "ExecuteTime": {
     "end_time": "2023-08-13T04:37:00.432511Z",
     "start_time": "2023-08-13T04:37:00.422541Z"
    }
   },
   "outputs": [
    {
     "name": "stdout",
     "output_type": "stream",
     "text": [
      "global_fibonacci took 5.650520324707031e-05 seconds\n"
     ]
    },
    {
     "data": {
      "text/plain": [
       "102334155"
      ]
     },
     "execution_count": 13,
     "metadata": {},
     "output_type": "execute_result"
    }
   ],
   "source": [
    "global_fibonacci(40)"
   ]
  },
  {
   "cell_type": "code",
   "execution_count": null,
   "id": "3b282036",
   "metadata": {},
   "outputs": [],
   "source": []
  }
 ],
 "metadata": {
  "kernelspec": {
   "display_name": "Python 3 (ipykernel)",
   "language": "python",
   "name": "python3"
  },
  "language_info": {
   "codemirror_mode": {
    "name": "ipython",
    "version": 3
   },
   "file_extension": ".py",
   "mimetype": "text/x-python",
   "name": "python",
   "nbconvert_exporter": "python",
   "pygments_lexer": "ipython3",
   "version": "3.10.9"
  },
  "toc": {
   "base_numbering": 1,
   "nav_menu": {},
   "number_sections": true,
   "sideBar": true,
   "skip_h1_title": false,
   "title_cell": "Table of Contents",
   "title_sidebar": "Contents",
   "toc_cell": false,
   "toc_position": {},
   "toc_section_display": true,
   "toc_window_display": false
  }
 },
 "nbformat": 4,
 "nbformat_minor": 5
}
