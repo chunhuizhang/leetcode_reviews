{
 "cells": [
  {
   "cell_type": "code",
   "execution_count": 1,
   "id": "1bd8202f",
   "metadata": {
    "ExecuteTime": {
     "end_time": "2023-08-21T13:45:38.149799Z",
     "start_time": "2023-08-21T13:45:38.142601Z"
    }
   },
   "outputs": [],
   "source": [
    "from functools import cache\n",
    "class Solution:\n",
    "    @cache\n",
    "    def fib(self, n: int) -> int:\n",
    "        if n <= 1: return n\n",
    "        return self.fib(n-1) + self.fib(n-2)"
   ]
  }
 ],
 "metadata": {
  "kernelspec": {
   "display_name": "Python 3 (ipykernel)",
   "language": "python",
   "name": "python3"
  },
  "language_info": {
   "codemirror_mode": {
    "name": "ipython",
    "version": 3
   },
   "file_extension": ".py",
   "mimetype": "text/x-python",
   "name": "python",
   "nbconvert_exporter": "python",
   "pygments_lexer": "ipython3",
   "version": "3.10.9"
  },
  "toc": {
   "base_numbering": 1,
   "nav_menu": {},
   "number_sections": true,
   "sideBar": true,
   "skip_h1_title": false,
   "title_cell": "Table of Contents",
   "title_sidebar": "Contents",
   "toc_cell": false,
   "toc_position": {},
   "toc_section_display": true,
   "toc_window_display": false
  }
 },
 "nbformat": 4,
 "nbformat_minor": 5
}
