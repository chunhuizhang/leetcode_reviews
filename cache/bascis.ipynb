{
 "cells": [
  {
   "cell_type": "markdown",
   "id": "1cd277af",
   "metadata": {},
   "source": [
    "## bascis"
   ]
  },
  {
   "cell_type": "markdown",
   "id": "8f3eb4ce",
   "metadata": {},
   "source": [
    "- cache 维护的是计算过了的（computed，可能会再次重复计算/调用的）kv\n",
    "\n",
    "$$\n",
    "\\begin{split}\n",
    "&v=f(k)\\\\\n",
    "&v=f(i,j)\n",
    "\\end{split}\n",
    "$$"
   ]
  }
 ],
 "metadata": {
  "kernelspec": {
   "display_name": "Python 3 (ipykernel)",
   "language": "python",
   "name": "python3"
  },
  "language_info": {
   "codemirror_mode": {
    "name": "ipython",
    "version": 3
   },
   "file_extension": ".py",
   "mimetype": "text/x-python",
   "name": "python",
   "nbconvert_exporter": "python",
   "pygments_lexer": "ipython3",
   "version": "3.10.9"
  },
  "toc": {
   "base_numbering": 1,
   "nav_menu": {},
   "number_sections": true,
   "sideBar": true,
   "skip_h1_title": false,
   "title_cell": "Table of Contents",
   "title_sidebar": "Contents",
   "toc_cell": false,
   "toc_position": {},
   "toc_section_display": true,
   "toc_window_display": false
  }
 },
 "nbformat": 4,
 "nbformat_minor": 5
}
