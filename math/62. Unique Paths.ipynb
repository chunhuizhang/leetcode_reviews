{
 "cells": [
  {
   "cell_type": "markdown",
   "id": "586d5981",
   "metadata": {},
   "source": [
    "- 总共需要走 `m-1+n-1` 步，其中需要 `m-1` 步向右，自然 `n-1` 步向下\n",
    "\n",
    "$$\n",
    "\\binom{m-1+n-1}{m-1}=\\binom{m-1+n-1}{n-1}=\\frac{(m-1+n-1)!}{(m-1)!(n-1)!}\n",
    "$$"
   ]
  },
  {
   "cell_type": "markdown",
   "id": "4feda8e7",
   "metadata": {},
   "source": [
    "```\n",
    "import math \n",
    "\n",
    "class Solution(object):\n",
    "\n",
    "    def factorial(self, m):\n",
    "        if m <= 1:\n",
    "            return 1\n",
    "        return m * self.factorial(m-1)\n",
    "\n",
    "    def uniquePaths(self, m, n):\n",
    "        \"\"\"\n",
    "        :type m: int\n",
    "        :type n: int\n",
    "        :rtype: int\n",
    "        \"\"\"\n",
    "        # math.comb(m-1+n-1, n-1)\n",
    "        return self.factorial(m-1+n-1) / self.factorial(m-1) / self.factorial(n-1)\n",
    "        \n",
    "```"
   ]
  }
 ],
 "metadata": {
  "kernelspec": {
   "display_name": "Python 3 (ipykernel)",
   "language": "python",
   "name": "python3"
  },
  "language_info": {
   "codemirror_mode": {
    "name": "ipython",
    "version": 3
   },
   "file_extension": ".py",
   "mimetype": "text/x-python",
   "name": "python",
   "nbconvert_exporter": "python",
   "pygments_lexer": "ipython3",
   "version": "3.10.9"
  },
  "toc": {
   "base_numbering": 1,
   "nav_menu": {},
   "number_sections": true,
   "sideBar": true,
   "skip_h1_title": false,
   "title_cell": "Table of Contents",
   "title_sidebar": "Contents",
   "toc_cell": false,
   "toc_position": {},
   "toc_section_display": true,
   "toc_window_display": false
  }
 },
 "nbformat": 4,
 "nbformat_minor": 5
}
