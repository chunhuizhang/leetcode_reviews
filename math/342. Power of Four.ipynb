{
 "cells": [
  {
   "cell_type": "markdown",
   "id": "284ee814",
   "metadata": {},
   "source": [
    "## 基础解法"
   ]
  },
  {
   "cell_type": "markdown",
   "id": "3722e09e",
   "metadata": {},
   "source": [
    "```\n",
    "class Solution(object):\n",
    "    def isPowerOfFour(self, n):\n",
    "        \"\"\"\n",
    "        :type n: int\n",
    "        :rtype: bool\n",
    "        \"\"\"\n",
    "        if n < 1: return False\n",
    "        while n % 4 == 0:\n",
    "            n //= 4\n",
    "        return n == 1\n",
    "```"
   ]
  },
  {
   "cell_type": "markdown",
   "id": "2bdff30a",
   "metadata": {},
   "source": [
    "## 比特位处理"
   ]
  },
  {
   "cell_type": "markdown",
   "id": "15db4859",
   "metadata": {},
   "source": [
    "- $4^n=2^{2n}$: 首先是二次幂（power of two），其次尾部为0的个数必须为偶数\n",
    "    - 100\n",
    "    - 10000\n",
    "    - 1000000"
   ]
  },
  {
   "cell_type": "markdown",
   "id": "9d43b1ce",
   "metadata": {},
   "source": [
    "```\n",
    "class Solution(object):\n",
    "    def count_trailing_zero(self, n):\n",
    "        count = 0\n",
    "        while n & 1 == 0:\n",
    "            n >>= 1\n",
    "            count += 1\n",
    "        return count\n",
    "\n",
    "    def isPowerOfFour(self, n):\n",
    "        \"\"\"\n",
    "        :type n: int\n",
    "        :rtype: bool\n",
    "        \"\"\"\n",
    "        if n < 1: return False\n",
    "        return (n & (n-1) == 0) and self.count_trailing_zero(n) % 2 == 0\n",
    "```"
   ]
  }
 ],
 "metadata": {
  "kernelspec": {
   "display_name": "Python 3 (ipykernel)",
   "language": "python",
   "name": "python3"
  },
  "language_info": {
   "codemirror_mode": {
    "name": "ipython",
    "version": 3
   },
   "file_extension": ".py",
   "mimetype": "text/x-python",
   "name": "python",
   "nbconvert_exporter": "python",
   "pygments_lexer": "ipython3",
   "version": "3.10.9"
  },
  "toc": {
   "base_numbering": 1,
   "nav_menu": {},
   "number_sections": true,
   "sideBar": true,
   "skip_h1_title": false,
   "title_cell": "Table of Contents",
   "title_sidebar": "Contents",
   "toc_cell": false,
   "toc_position": {},
   "toc_section_display": true,
   "toc_window_display": false
  }
 },
 "nbformat": 4,
 "nbformat_minor": 5
}
