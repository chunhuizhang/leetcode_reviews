{
 "cells": [
  {
   "cell_type": "markdown",
   "id": "e6588eed",
   "metadata": {},
   "source": [
    "- 参考\n",
    "    - https://courses.mai.liu.se/GU/TATA82/Dokument/Lecture10.pdf"
   ]
  },
  {
   "cell_type": "markdown",
   "id": "b37b4ac9",
   "metadata": {},
   "source": [
    "## 记号"
   ]
  },
  {
   "cell_type": "markdown",
   "id": "68928b3b",
   "metadata": {},
   "source": [
    "- 数论研究整数的学问；\n",
    "- $a|b$, $b=ka$, $b$ 能被 $a$ 整除\n",
    "- 商与余数：\n",
    "    - $a=bq+r$, $q$ 是商，$r$ 是余数（remainder），显然余数一定小于除数 （$r\\lt b$）"
   ]
  },
  {
   "cell_type": "markdown",
   "id": "9172ee8f",
   "metadata": {},
   "source": [
    "### 欧几里得算法（辗转相除法）"
   ]
  },
  {
   "cell_type": "code",
   "execution_count": 7,
   "id": "0f753a37",
   "metadata": {
    "ExecuteTime": {
     "end_time": "2023-08-22T14:17:26.573365Z",
     "start_time": "2023-08-22T14:17:26.565127Z"
    }
   },
   "outputs": [],
   "source": [
    "def gcd(a, b):\n",
    "    a, b = (a, b) if a > b else (b, a)\n",
    "    while b != 0:\n",
    "        a, b = b, a % b\n",
    "#         print(a, b)\n",
    "    return a"
   ]
  },
  {
   "cell_type": "code",
   "execution_count": 8,
   "id": "6e07ef29",
   "metadata": {
    "ExecuteTime": {
     "end_time": "2023-08-22T14:17:27.768206Z",
     "start_time": "2023-08-22T14:17:27.752676Z"
    }
   },
   "outputs": [
    {
     "name": "stdout",
     "output_type": "stream",
     "text": [
      "30 17\n",
      "17 13\n",
      "13 4\n",
      "4 1\n",
      "1 0\n"
     ]
    },
    {
     "data": {
      "text/plain": [
       "1"
      ]
     },
     "execution_count": 8,
     "metadata": {},
     "output_type": "execute_result"
    }
   ],
   "source": [
    "gcd(47, 30)"
   ]
  },
  {
   "cell_type": "markdown",
   "id": "d69b1c04",
   "metadata": {},
   "source": [
    "### lcm"
   ]
  },
  {
   "cell_type": "markdown",
   "id": "bc594e46",
   "metadata": {},
   "source": [
    "$$\n",
    "lcm(a,b)=\\frac{|a\\cdot b|}{gcd(a, b)}\n",
    "$$"
   ]
  },
  {
   "cell_type": "markdown",
   "id": "b809e095",
   "metadata": {},
   "source": [
    "## 取模"
   ]
  },
  {
   "cell_type": "markdown",
   "id": "83b4116f",
   "metadata": {},
   "source": [
    "## 丢番图方程（Diophantine equation）"
   ]
  },
  {
   "cell_type": "markdown",
   "id": "30886cea",
   "metadata": {},
   "source": [
    "- Let $a$ and $b$ integers, not both 0, and let $d = gcd(a, b)$. The Diophantine equation $ax + by = c$ has solution if and only if $d | c$;\n",
    "\n",
    "$$\n",
    "ax+by=k\\cdot gcd(a,b)\n",
    "$$"
   ]
  },
  {
   "cell_type": "markdown",
   "id": "ee414ef9",
   "metadata": {},
   "source": [
    "### $47x+30y=1$"
   ]
  },
  {
   "cell_type": "markdown",
   "id": "fa1fab55",
   "metadata": {},
   "source": [
    "- 欧拉算法\n",
    "    - $47 = 30(1) + 17$\n",
    "    - $30 = 17(1) + 13$\n",
    "    - $17 = 13(1) + 4$\n",
    "    - $13 =  4(3) + 1$\n",
    "- 关于余数\n",
    "    - $17=47(1)-30(1)$\n",
    "    - $13=30(1)-17(1)$\n",
    "    - $4=17(1)-13(1)$\n",
    "    - $1=13(1)-4(3)$\n",
    "\n",
    "$$\n",
    "\\begin{split}\n",
    "1&=13(1)-4(3)\\\\\n",
    "&=13(1)-\\left[17(1)-13(1)\\right](3)\\\\\n",
    "&=13(1)-\\left[17(3)-13(3)\\right]\\\\\n",
    "&=13(4)-17(3)\\\\\n",
    "&=\\left[30(1)-17(1)\\right](4)-17(3)\\\\\n",
    "&=30(4)-17(7)\\\\\n",
    "&=30(4)-\\left[47(1)-30(1)\\right](7)\\\\\n",
    "&=30(11)-47(7)\n",
    "\\end{split}\n",
    "$$"
   ]
  },
  {
   "cell_type": "markdown",
   "id": "10ce836b",
   "metadata": {},
   "source": [
    "## 中国剩余定理"
   ]
  }
 ],
 "metadata": {
  "kernelspec": {
   "display_name": "Python 3 (ipykernel)",
   "language": "python",
   "name": "python3"
  },
  "language_info": {
   "codemirror_mode": {
    "name": "ipython",
    "version": 3
   },
   "file_extension": ".py",
   "mimetype": "text/x-python",
   "name": "python",
   "nbconvert_exporter": "python",
   "pygments_lexer": "ipython3",
   "version": "3.10.9"
  },
  "toc": {
   "base_numbering": 1,
   "nav_menu": {},
   "number_sections": true,
   "sideBar": true,
   "skip_h1_title": false,
   "title_cell": "Table of Contents",
   "title_sidebar": "Contents",
   "toc_cell": false,
   "toc_position": {},
   "toc_section_display": true,
   "toc_window_display": false
  }
 },
 "nbformat": 4,
 "nbformat_minor": 5
}
