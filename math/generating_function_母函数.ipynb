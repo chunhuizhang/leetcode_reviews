{
 "cells": [
  {
   "cell_type": "markdown",
   "id": "75df6da3",
   "metadata": {},
   "source": [
    "## bascis"
   ]
  },
  {
   "cell_type": "markdown",
   "id": "22ea43a2",
   "metadata": {},
   "source": [
    "- 离散数学（通向计算机科学）\n",
    "- 也是计数（Counting）的艺术"
   ]
  },
  {
   "cell_type": "markdown",
   "id": "a9a1c069",
   "metadata": {},
   "source": [
    "$$\n",
    "G(x)=\\sum_{k}a_kx^k\n",
    "$$"
   ]
  },
  {
   "cell_type": "markdown",
   "id": "d255f39f",
   "metadata": {},
   "source": [
    "## examples: 骰子"
   ]
  },
  {
   "cell_type": "markdown",
   "id": "5e6000ad",
   "metadata": {},
   "source": [
    "- $G(x)=p_1x^1+p_2x^2+p_3x^3+p_4x^4+p_5x^5+p_6x^6$\n",
    "    - 此时如果想从这个函数中恢复出 $p_1$\n",
    "        - $G'(x)=p_1+2p_2x+3p_3x^2+4p_4x^3+5p_5x^4+6p_6x^5$\n",
    "        - $p_1=G'(0)$\n",
    "    - $p_2$\n",
    "        - $G''(x)=2p_2+\\cdots$\n",
    "        - $p_2=\\frac{G''(x)}{2}$\n",
    "\n",
    "$$\n",
    "p_k=\\frac{1}{k!}\\frac{d^kG(x)}{dx^k}\\bigg|_{x=0}\n",
    "$$\n",
    "\n",
    "- 期望值；\n",
    "\n",
    "$$G'(1)=p_1+2p_2+3p_3+4p_4+5p_5+6p_6$$\n",
    "\n",
    "- $G^2(x)$：同时掷2个骰子\n",
    "\n",
    "$$\n",
    "\\begin{split}\n",
    "G^2(x)&=(p_1x+p_2x^2+\\cdots)(p_1x+p_2x^2+\\cdots)\\\\\n",
    "&=(p_1p_1)x^2\\\\\n",
    "&+(p_1p_2+p_2p_1)x^3\\\\\n",
    "&+(p_1p_3+p_2p_2+p_3p_1)x^4\\\\\n",
    "&+\\cdots\n",
    "\\end{split}\n",
    "$$\n",
    "- 其中 $x^4$ 之前的系数（$(p_1p_3+p_2p_2+p_3p_1)$）表示的是抛出点数和为4的可能情况；"
   ]
  },
  {
   "cell_type": "markdown",
   "id": "05925abf",
   "metadata": {},
   "source": [
    "## exmaples: candies"
   ]
  },
  {
   "cell_type": "markdown",
   "id": "1591b87a",
   "metadata": {},
   "source": [
    "- 一共10个糖果\n",
    "- 偶数个红色糖果\n",
    "- 超过6个蓝色糖果\n",
    "- 少于3个绿色糖果"
   ]
  },
  {
   "cell_type": "markdown",
   "id": "66202a1e",
   "metadata": {},
   "source": [
    "- 偶数个红色糖果：$1+x^2+x^4+x^6+x^8+x^{10}$\n",
    "- 超过6个蓝色糖果：$x^7+x^8+x^9+x^{10}$\n",
    "- 少于3个绿色糖果：$1+x^1+x^2$"
   ]
  },
  {
   "cell_type": "markdown",
   "id": "5e3128c5",
   "metadata": {},
   "source": [
    "$$\n",
    "(1+x^2+x^4+x^6+x^8+x^{10})(x^7+x^8+x^9+x^{10})(1+x^1+x^2)\n",
    "$$\n",
    "\n",
    "- 题目中问的就是 $x^{10}$ 的系数"
   ]
  },
  {
   "cell_type": "code",
   "execution_count": 2,
   "id": "99150e55",
   "metadata": {
    "ExecuteTime": {
     "end_time": "2023-08-21T13:34:27.982682Z",
     "start_time": "2023-08-21T13:34:27.965324Z"
    }
   },
   "outputs": [],
   "source": [
    "from sympy import poly\n",
    "from sympy.abc import x"
   ]
  },
  {
   "cell_type": "code",
   "execution_count": 3,
   "id": "6f2653bf",
   "metadata": {
    "ExecuteTime": {
     "end_time": "2023-08-21T13:35:34.183566Z",
     "start_time": "2023-08-21T13:35:34.087773Z"
    }
   },
   "outputs": [
    {
     "data": {
      "text/latex": [
       "$\\displaystyle \\operatorname{Poly}{\\left( x^{22} + 2 x^{21} + 4 x^{20} + 5 x^{19} + 6 x^{18} + 6 x^{17} + 6 x^{16} + 6 x^{15} + 6 x^{14} + 6 x^{13} + 6 x^{12} + 6 x^{11} + 5 x^{10} + 4 x^{9} + 2 x^{8} + x^{7}, x, domain=\\mathbb{Z} \\right)}$"
      ],
      "text/plain": [
       "Poly(x**22 + 2*x**21 + 4*x**20 + 5*x**19 + 6*x**18 + 6*x**17 + 6*x**16 + 6*x**15 + 6*x**14 + 6*x**13 + 6*x**12 + 6*x**11 + 5*x**10 + 4*x**9 + 2*x**8 + x**7, x, domain='ZZ')"
      ]
     },
     "execution_count": 3,
     "metadata": {},
     "output_type": "execute_result"
    }
   ],
   "source": [
    "poly((1 + x**2 + x**4 + x**6 + x**8 + x**10) * (x**7 + x**8 + x**9 + x**10) * (1 + x + x**2))"
   ]
  },
  {
   "cell_type": "markdown",
   "id": "5adcebe8",
   "metadata": {},
   "source": [
    "- $1\\cdot x^{10}\\cdot 1$\n",
    "- $x^2\\cdot x^7 \\cdot x$\n",
    "- $x^2\\cdot x^8 \\cdot 1$\n",
    "- $1\\cdot x^8 \\cdot x^2$\n",
    "- $x^2\\cdot x^8 \\cdot 1$"
   ]
  }
 ],
 "metadata": {
  "kernelspec": {
   "display_name": "Python 3 (ipykernel)",
   "language": "python",
   "name": "python3"
  },
  "language_info": {
   "codemirror_mode": {
    "name": "ipython",
    "version": 3
   },
   "file_extension": ".py",
   "mimetype": "text/x-python",
   "name": "python",
   "nbconvert_exporter": "python",
   "pygments_lexer": "ipython3",
   "version": "3.10.9"
  },
  "toc": {
   "base_numbering": 1,
   "nav_menu": {},
   "number_sections": true,
   "sideBar": true,
   "skip_h1_title": false,
   "title_cell": "Table of Contents",
   "title_sidebar": "Contents",
   "toc_cell": false,
   "toc_position": {},
   "toc_section_display": true,
   "toc_window_display": false
  }
 },
 "nbformat": 4,
 "nbformat_minor": 5
}
