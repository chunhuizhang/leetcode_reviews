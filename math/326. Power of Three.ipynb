{
 "cells": [
  {
   "cell_type": "markdown",
   "id": "bde99ccb",
   "metadata": {},
   "source": [
    "- 一定要反复确认边界条件\n",
    "- a % b == 0\n",
    "    - 仅能说明 a 能被 b 整除；\n",
    "    - a = k*b\n",
    "- 指数的增长是非常非常快的"
   ]
  },
  {
   "cell_type": "markdown",
   "id": "94b2442f",
   "metadata": {},
   "source": [
    "$$\n",
    "n=3^x\n",
    "$$"
   ]
  },
  {
   "cell_type": "markdown",
   "id": "40facdb2",
   "metadata": {},
   "source": [
    "## 方法1"
   ]
  },
  {
   "cell_type": "markdown",
   "id": "43656e8a",
   "metadata": {},
   "source": [
    "\n",
    "- time: $O(\\log_3(n))$\n",
    "- space: $O(1)$\n",
    "\n",
    "```\n",
    "class Solution(object):\n",
    "    def isPowerOfThree(self, n):\n",
    "        \"\"\"\n",
    "        :type n: int\n",
    "        :rtype: bool\n",
    "        \"\"\"\n",
    "        if n < 1: return False\n",
    "        while n % 3 == 0:\n",
    "            n //= 3\n",
    "        return n == 1\n",
    "```"
   ]
  },
  {
   "cell_type": "markdown",
   "id": "4707f14e",
   "metadata": {},
   "source": [
    "## 方法2"
   ]
  },
  {
   "cell_type": "code",
   "execution_count": 11,
   "id": "2a094aeb",
   "metadata": {
    "ExecuteTime": {
     "end_time": "2023-08-15T13:33:20.104005Z",
     "start_time": "2023-08-15T13:33:20.099531Z"
    }
   },
   "outputs": [
    {
     "data": {
      "text/plain": [
       "4294967295"
      ]
     },
     "execution_count": 11,
     "metadata": {},
     "output_type": "execute_result"
    }
   ],
   "source": [
    "2**32 - 1"
   ]
  },
  {
   "cell_type": "code",
   "execution_count": 16,
   "id": "4db08c2f",
   "metadata": {
    "ExecuteTime": {
     "end_time": "2023-08-15T13:38:39.312846Z",
     "start_time": "2023-08-15T13:38:39.309313Z"
    }
   },
   "outputs": [],
   "source": [
    "# from tqdm import tqdm\n",
    "# for i in tqdm(range(2**32)[::-1]):\n",
    "#     if i % 2 == 0:\n",
    "#         continue\n",
    "#     if 3**int(math.log(i, 3)) == i:\n",
    "#         print(i)\n",
    "#         break"
   ]
  },
  {
   "cell_type": "code",
   "execution_count": 21,
   "id": "ef053cb5",
   "metadata": {
    "ExecuteTime": {
     "end_time": "2023-08-15T13:42:15.698848Z",
     "start_time": "2023-08-15T13:42:15.693621Z"
    }
   },
   "outputs": [],
   "source": [
    "SET = []\n",
    "n = 1\n",
    "while True:\n",
    "    n *= 3\n",
    "    if n >= 2**32:\n",
    "        break\n",
    "    SET.append(n)"
   ]
  },
  {
   "cell_type": "code",
   "execution_count": 22,
   "id": "4eafa2f2",
   "metadata": {
    "ExecuteTime": {
     "end_time": "2023-08-15T13:42:17.118434Z",
     "start_time": "2023-08-15T13:42:17.109444Z"
    }
   },
   "outputs": [
    {
     "data": {
      "text/plain": [
       "[3,\n",
       " 9,\n",
       " 27,\n",
       " 81,\n",
       " 243,\n",
       " 729,\n",
       " 2187,\n",
       " 6561,\n",
       " 19683,\n",
       " 59049,\n",
       " 177147,\n",
       " 531441,\n",
       " 1594323,\n",
       " 4782969,\n",
       " 14348907,\n",
       " 43046721,\n",
       " 129140163,\n",
       " 387420489,\n",
       " 1162261467,\n",
       " 3486784401]"
      ]
     },
     "execution_count": 22,
     "metadata": {},
     "output_type": "execute_result"
    }
   ],
   "source": [
    "SET"
   ]
  },
  {
   "cell_type": "markdown",
   "id": "cfabf911",
   "metadata": {},
   "source": [
    "- int 范围内最大的 3 的整数次幂：1162261467\n",
    "\n",
    "```\n",
    "class Solution(object):\n",
    "    def isPowerOfThree(self, n):\n",
    "        \"\"\"\n",
    "        :type n: int\n",
    "        :rtype: bool\n",
    "        \"\"\"\n",
    "        return n > 1 and 3486784401 % n == 0\n",
    "```"
   ]
  },
  {
   "cell_type": "code",
   "execution_count": null,
   "id": "428b7574",
   "metadata": {},
   "outputs": [],
   "source": []
  }
 ],
 "metadata": {
  "kernelspec": {
   "display_name": "Python 3 (ipykernel)",
   "language": "python",
   "name": "python3"
  },
  "language_info": {
   "codemirror_mode": {
    "name": "ipython",
    "version": 3
   },
   "file_extension": ".py",
   "mimetype": "text/x-python",
   "name": "python",
   "nbconvert_exporter": "python",
   "pygments_lexer": "ipython3",
   "version": "3.10.9"
  },
  "toc": {
   "base_numbering": 1,
   "nav_menu": {},
   "number_sections": true,
   "sideBar": true,
   "skip_h1_title": false,
   "title_cell": "Table of Contents",
   "title_sidebar": "Contents",
   "toc_cell": false,
   "toc_position": {},
   "toc_section_display": true,
   "toc_window_display": false
  }
 },
 "nbformat": 4,
 "nbformat_minor": 5
}
