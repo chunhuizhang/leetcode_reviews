{
 "cells": [
  {
   "cell_type": "markdown",
   "id": "ef35ef26",
   "metadata": {},
   "source": [
    "## basics"
   ]
  },
  {
   "cell_type": "markdown",
   "id": "7d3b5a5b",
   "metadata": {},
   "source": [
    "$$\n",
    "l, r\\\\\n",
    "mid=\\frac{l+r}{2}=l+(r-l)/2\n",
    "$$"
   ]
  },
  {
   "cell_type": "markdown",
   "id": "b4ed1f42",
   "metadata": {},
   "source": [
    "```\n",
    "l, r = 0, n-1\n",
    "while l <= r:\n",
    "    mid = (l+r)//2\n",
    "    if xx:\n",
    "        l = mid - 1\n",
    "    else:\n",
    "        r = mid + 1\n",
    "```"
   ]
  },
  {
   "cell_type": "markdown",
   "id": "c4566ab3",
   "metadata": {},
   "source": [
    "## 410. Split Array Largest Sum\n"
   ]
  },
  {
   "cell_type": "code",
   "execution_count": 14,
   "id": "c4df915c",
   "metadata": {
    "ExecuteTime": {
     "end_time": "2023-08-28T13:49:42.607159Z",
     "start_time": "2023-08-28T13:49:42.600562Z"
    }
   },
   "outputs": [],
   "source": [
    "# python 3 标准库\n",
    "from typing import List"
   ]
  },
  {
   "cell_type": "code",
   "execution_count": 13,
   "id": "73a3b3df",
   "metadata": {
    "ExecuteTime": {
     "end_time": "2023-08-28T13:47:00.791076Z",
     "start_time": "2023-08-28T13:47:00.780257Z"
    }
   },
   "outputs": [],
   "source": [
    "class Solution:\n",
    "    def splitArray(self, nums: List[int], k: int) -> int:\n",
    "        # max, sum\n",
    "        # mid = max + (sum-max)/2\n",
    "        l, r = max(nums), sum(nums)\n",
    "        ans, mid = 0, 0\n",
    "\n",
    "        while l <= r:\n",
    "            mid = (l + r)//2\n",
    "            print('before', l, r, mid)\n",
    "            cnt, tmp_sum = 0, 0\n",
    "            for v in nums:\n",
    "                if (tmp_sum + v) <= mid:\n",
    "                    tmp_sum += v\n",
    "                else:\n",
    "                    cnt += 1\n",
    "                    tmp_sum = v\n",
    "            cnt += 1\n",
    "            if cnt <= k:\n",
    "                r = mid - 1\n",
    "                ans = mid\n",
    "            else:\n",
    "                l = mid + 1\n",
    "            print('after', l, r, mid)\n",
    "        return ans"
   ]
  },
  {
   "cell_type": "code",
   "execution_count": 15,
   "id": "8c7d9ae5",
   "metadata": {
    "ExecuteTime": {
     "end_time": "2023-08-28T13:53:16.228650Z",
     "start_time": "2023-08-28T13:53:16.221794Z"
    }
   },
   "outputs": [
    {
     "name": "stdout",
     "output_type": "stream",
     "text": [
      "before 10 32 21\n",
      "after 10 20 21\n",
      "before 10 20 15\n",
      "after 16 20 15\n",
      "before 16 20 18\n",
      "after 16 17 18\n",
      "before 16 17 16\n",
      "after 17 17 16\n",
      "before 17 17 17\n",
      "after 18 17 17\n"
     ]
    },
    {
     "data": {
      "text/plain": [
       "18"
      ]
     },
     "execution_count": 15,
     "metadata": {},
     "output_type": "execute_result"
    }
   ],
   "source": [
    "sln = Solution()\n",
    "sln.splitArray([7, 2, 5, 10, 8], 2) "
   ]
  }
 ],
 "metadata": {
  "kernelspec": {
   "display_name": "Python 3 (ipykernel)",
   "language": "python",
   "name": "python3"
  },
  "language_info": {
   "codemirror_mode": {
    "name": "ipython",
    "version": 3
   },
   "file_extension": ".py",
   "mimetype": "text/x-python",
   "name": "python",
   "nbconvert_exporter": "python",
   "pygments_lexer": "ipython3",
   "version": "3.10.9"
  },
  "toc": {
   "base_numbering": 1,
   "nav_menu": {},
   "number_sections": true,
   "sideBar": true,
   "skip_h1_title": false,
   "title_cell": "Table of Contents",
   "title_sidebar": "Contents",
   "toc_cell": false,
   "toc_position": {},
   "toc_section_display": true,
   "toc_window_display": false
  }
 },
 "nbformat": 4,
 "nbformat_minor": 5
}
