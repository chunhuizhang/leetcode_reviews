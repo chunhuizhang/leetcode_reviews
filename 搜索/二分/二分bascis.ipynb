{
 "cells": [
  {
   "cell_type": "markdown",
   "id": "7b93547d",
   "metadata": {},
   "source": [
    "$$\n",
    "\\begin{split}\n",
    "&mid=\\frac{l+r}{2}=l+\\frac{r-l}2\\\\\n",
    "&mid=l + \\frac{r-l}{2}, &\\quad \\text{lower/left mid}\\\\\n",
    "&mid=l + \\frac{r-l+1}2, &\\quad \\text{upper/right mid}\n",
    "\\end{split}\n",
    "$$\n",
    "- $\\frac{l+r}{2}$: 容易导致浮点数上溢（overflow）；"
   ]
  },
  {
   "cell_type": "markdown",
   "id": "f8cf1bab",
   "metadata": {},
   "source": [
    "## basics"
   ]
  },
  {
   "cell_type": "markdown",
   "id": "56156ed5",
   "metadata": {},
   "source": [
    "- lo/hi\n",
    "    - `lo = 0`\n",
    "    - `hi = len(nums)-1`\n",
    "    - lo, hi, mid: 都是 **index**，而不是具体的 value\n",
    "- mid: 相邻时（`hi = lo + 1`）的选择（选左边的还是右边的）\n",
    "    - `lo + (hi - lo) // 2`\n",
    "        - 1, 1 => 1\n",
    "        - 0, 1 => 0\n",
    "    - `lo + (hi - lo + 1) //2`\n",
    "        - 1, 1 => 1\n",
    "        - 0, 1 => 1"
   ]
  },
  {
   "cell_type": "markdown",
   "id": "6ccf6fa1",
   "metadata": {},
   "source": [
    "## 704. Binary Search\n"
   ]
  },
  {
   "cell_type": "code",
   "execution_count": 1,
   "id": "10b15fd0",
   "metadata": {
    "ExecuteTime": {
     "end_time": "2023-08-29T13:00:31.693277Z",
     "start_time": "2023-08-29T13:00:31.676377Z"
    }
   },
   "outputs": [],
   "source": [
    "from typing import List"
   ]
  },
  {
   "cell_type": "markdown",
   "id": "76e97d17",
   "metadata": {},
   "source": [
    "### 三次比较"
   ]
  },
  {
   "cell_type": "code",
   "execution_count": 11,
   "id": "f7327d82",
   "metadata": {
    "ExecuteTime": {
     "end_time": "2023-08-29T13:04:06.021270Z",
     "start_time": "2023-08-29T13:04:06.016318Z"
    }
   },
   "outputs": [],
   "source": [
    "class Solution:\n",
    "    def search(self, nums: List[int], target: int) -> int:\n",
    "        l, r = 0, len(nums)-1\n",
    "        # 循环退出的条件是 l > r\n",
    "        while l <= r:\n",
    "            mid = l + (r-l)//2    \n",
    "            print('before', l, r, mid)\n",
    "            if nums[mid] == target:\n",
    "                return mid\n",
    "            elif nums[mid] < target:\n",
    "                l = mid+1\n",
    "            else:\n",
    "                r = mid-1\n",
    "            print('after', l, r)\n",
    "        return -1"
   ]
  },
  {
   "cell_type": "code",
   "execution_count": 12,
   "id": "02fb5065",
   "metadata": {
    "ExecuteTime": {
     "end_time": "2023-08-29T13:04:07.600564Z",
     "start_time": "2023-08-29T13:04:07.594652Z"
    }
   },
   "outputs": [
    {
     "name": "stdout",
     "output_type": "stream",
     "text": [
      "before 0 5 2\n",
      "after 3 5\n",
      "before 3 5 4\n"
     ]
    }
   ],
   "source": [
    "sln = Solution()\n",
    "assert sln.search([-1, 0, 3, 5, 9, 12], 9) == 4"
   ]
  },
  {
   "cell_type": "code",
   "execution_count": 14,
   "id": "2cf6d429",
   "metadata": {
    "ExecuteTime": {
     "end_time": "2023-08-29T13:04:40.771819Z",
     "start_time": "2023-08-29T13:04:40.764476Z"
    }
   },
   "outputs": [
    {
     "name": "stdout",
     "output_type": "stream",
     "text": [
      "before 0 5 2\n",
      "after 0 1\n",
      "before 0 1 0\n",
      "after 1 1\n",
      "before 1 1 1\n",
      "after 2 1\n"
     ]
    }
   ],
   "source": [
    "assert sln.search([-1, 0, 3, 5, 9, 12], 2) == -1"
   ]
  },
  {
   "cell_type": "markdown",
   "id": "906becdc",
   "metadata": {},
   "source": [
    "### 二次比较"
   ]
  },
  {
   "cell_type": "code",
   "execution_count": 26,
   "id": "a0c684ed",
   "metadata": {
    "ExecuteTime": {
     "end_time": "2023-08-29T13:24:59.065881Z",
     "start_time": "2023-08-29T13:24:59.056063Z"
    }
   },
   "outputs": [],
   "source": [
    "class Solution:\n",
    "    def search(self, nums: List[int], target: int) -> int:\n",
    "        lo, hi = 0, len(nums)-1\n",
    "        # lo == hi 时退出\n",
    "        while lo < hi:\n",
    "            mid = lo + (hi - lo + 1) // 2   # right\n",
    "            if target < nums[mid]:\n",
    "                hi = mid - 1   # exclude mid\n",
    "            else:\n",
    "                lo = mid       # include mid\n",
    "        print(f'finally: lo={lo}, hi={hi}')\n",
    "        return lo if nums[lo] == target else -1"
   ]
  },
  {
   "cell_type": "code",
   "execution_count": 27,
   "id": "fa810d7c",
   "metadata": {
    "ExecuteTime": {
     "end_time": "2023-08-29T13:25:00.142580Z",
     "start_time": "2023-08-29T13:25:00.134852Z"
    }
   },
   "outputs": [
    {
     "name": "stdout",
     "output_type": "stream",
     "text": [
      "finally: lo=4, hi=4\n",
      "finally: lo=1, hi=1\n"
     ]
    }
   ],
   "source": [
    "sln = Solution()\n",
    "assert sln.search([-1, 0, 3, 5, 9, 12], 9) == 4\n",
    "assert sln.search([-1, 0, 3, 5, 9, 12], 2) == -1"
   ]
  },
  {
   "cell_type": "code",
   "execution_count": 29,
   "id": "d288abb3",
   "metadata": {
    "ExecuteTime": {
     "end_time": "2023-08-29T13:25:31.257551Z",
     "start_time": "2023-08-29T13:25:31.249438Z"
    }
   },
   "outputs": [],
   "source": [
    "class Solution:\n",
    "    def search(self, nums: List[int], target: int) -> int:\n",
    "        lo, hi = 0, len(nums)-1\n",
    "        # lo == hi 时退出\n",
    "        while lo < hi:\n",
    "            mid = lo + (hi - lo) // 2   # left\n",
    "            if target > nums[mid]:\n",
    "                lo = mid + 1   # exclude mid\n",
    "            else:\n",
    "                hi = mid       # include mid\n",
    "        print(f'finally: lo={lo}, hi={hi}')\n",
    "        return lo if nums[lo] == target else -1"
   ]
  },
  {
   "cell_type": "code",
   "execution_count": 25,
   "id": "2021878c",
   "metadata": {
    "ExecuteTime": {
     "end_time": "2023-08-29T13:24:44.269515Z",
     "start_time": "2023-08-29T13:24:44.261385Z"
    },
    "scrolled": true
   },
   "outputs": [
    {
     "name": "stdout",
     "output_type": "stream",
     "text": [
      "finally: lo=4, hi=4\n",
      "finally: lo=2, hi=2\n"
     ]
    }
   ],
   "source": [
    "sln = Solution()\n",
    "assert sln.search([-1, 0, 3, 5, 9, 12], 9) == 4\n",
    "assert sln.search([-1, 0, 3, 5, 9, 12], 2) == -1"
   ]
  },
  {
   "cell_type": "markdown",
   "id": "c1e95309",
   "metadata": {},
   "source": [
    "## 34. Find First and Last Position of Element in Sorted Array\n"
   ]
  },
  {
   "cell_type": "markdown",
   "id": "a91cad39",
   "metadata": {},
   "source": [
    "- first and last\n",
    "    - first, leftmost, \n",
    "    - last, rightmost\n",
    "- 【10, 10, 10】\n",
    "    - first, 0\n",
    "    - last, 2\n",
    "    - lo, hi = 0, 2\n",
    "        - mid = 1\n",
    "        - first：命中时，向左走\n",
    "        - last：命中时，向右走"
   ]
  },
  {
   "cell_type": "code",
   "execution_count": 33,
   "id": "70c28ac1",
   "metadata": {
    "ExecuteTime": {
     "end_time": "2023-08-29T13:48:47.324054Z",
     "start_time": "2023-08-29T13:48:47.310639Z"
    }
   },
   "outputs": [],
   "source": [
    "class Solution:\n",
    "    def searchRange(self, nums: List[int], target: int) -> List[int]:\n",
    "\n",
    "        def rightMost(nums, target):\n",
    "            if len(nums) == 0: return -1\n",
    "            lo, hi = 0, len(nums) - 1\n",
    "            while lo < hi:\n",
    "                # 始终趋向于右侧\n",
    "                mid = lo + (hi - lo + 1) // 2\n",
    "                print('rightMost', lo, hi, mid)\n",
    "                if target < nums[mid]:\n",
    "                    hi = mid-1\n",
    "                else:\n",
    "                    lo = mid\n",
    "            return lo if target == nums[lo] else -1\n",
    "\n",
    "        def leftMost(nums, target):\n",
    "            if len(nums) == 0: return -1\n",
    "            lo, hi = 0, len(nums) - 1\n",
    "            while lo < hi:\n",
    "                # 始终趋向于左侧\n",
    "                mid = lo + (hi - lo) // 2\n",
    "                print('leftMost', lo, hi, mid)\n",
    "                if target > nums[mid]:\n",
    "                    lo = mid + 1\n",
    "                else:\n",
    "                    hi = mid\n",
    "            return lo if nums[lo] == target else -1\n",
    "\n",
    "        return [leftMost(nums, target), rightMost(nums, target)]"
   ]
  },
  {
   "cell_type": "code",
   "execution_count": 34,
   "id": "478cf905",
   "metadata": {
    "ExecuteTime": {
     "end_time": "2023-08-29T13:48:48.344930Z",
     "start_time": "2023-08-29T13:48:48.336407Z"
    }
   },
   "outputs": [
    {
     "name": "stdout",
     "output_type": "stream",
     "text": [
      "leftMost 0 2 1\n",
      "leftMost 0 1 0\n",
      "rightMost 0 2 1\n",
      "rightMost 1 2 2\n"
     ]
    },
    {
     "data": {
      "text/plain": [
       "[0, 2]"
      ]
     },
     "execution_count": 34,
     "metadata": {},
     "output_type": "execute_result"
    }
   ],
   "source": [
    "sln = Solution()\n",
    "sln.searchRange([10, 10, 10], 10)"
   ]
  }
 ],
 "metadata": {
  "kernelspec": {
   "display_name": "Python 3 (ipykernel)",
   "language": "python",
   "name": "python3"
  },
  "language_info": {
   "codemirror_mode": {
    "name": "ipython",
    "version": 3
   },
   "file_extension": ".py",
   "mimetype": "text/x-python",
   "name": "python",
   "nbconvert_exporter": "python",
   "pygments_lexer": "ipython3",
   "version": "3.10.9"
  },
  "toc": {
   "base_numbering": 1,
   "nav_menu": {},
   "number_sections": true,
   "sideBar": true,
   "skip_h1_title": false,
   "title_cell": "Table of Contents",
   "title_sidebar": "Contents",
   "toc_cell": false,
   "toc_position": {},
   "toc_section_display": true,
   "toc_window_display": false
  }
 },
 "nbformat": 4,
 "nbformat_minor": 5
}
