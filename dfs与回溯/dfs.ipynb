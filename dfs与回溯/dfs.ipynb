{
 "cells": [
  {
   "cell_type": "code",
   "execution_count": 1,
   "id": "663cd872",
   "metadata": {
    "ExecuteTime": {
     "end_time": "2023-08-12T12:48:10.521868Z",
     "start_time": "2023-08-12T12:48:10.505778Z"
    }
   },
   "outputs": [
    {
     "data": {
      "text/plain": [
       "['DDRR', 'DRDR', 'DRRD', 'RDDR', 'RDRD', 'RRDD']"
      ]
     },
     "execution_count": 1,
     "metadata": {},
     "output_type": "execute_result"
    }
   ],
   "source": [
    "def find_all_paths(m, n):\n",
    "    paths = []\n",
    "\n",
    "    def dfs(i, j, path):\n",
    "        if i == m - 1 and j == n - 1:\n",
    "            # Reached the bottom right cell, add the path to the list of paths\n",
    "            paths.append(path)\n",
    "            return\n",
    "        if i < m - 1:\n",
    "            # Move down\n",
    "            dfs(i + 1, j, path + \"D\")\n",
    "        if j < n - 1:\n",
    "            # Move right\n",
    "            dfs(i, j + 1, path + \"R\")\n",
    "\n",
    "    dfs(0, 0, \"\")\n",
    "    return paths\n",
    "find_all_paths(3, 3)"
   ]
  }
 ],
 "metadata": {
  "kernelspec": {
   "display_name": "Python 3 (ipykernel)",
   "language": "python",
   "name": "python3"
  },
  "language_info": {
   "codemirror_mode": {
    "name": "ipython",
    "version": 3
   },
   "file_extension": ".py",
   "mimetype": "text/x-python",
   "name": "python",
   "nbconvert_exporter": "python",
   "pygments_lexer": "ipython3",
   "version": "3.10.9"
  },
  "toc": {
   "base_numbering": 1,
   "nav_menu": {},
   "number_sections": true,
   "sideBar": true,
   "skip_h1_title": false,
   "title_cell": "Table of Contents",
   "title_sidebar": "Contents",
   "toc_cell": false,
   "toc_position": {},
   "toc_section_display": true,
   "toc_window_display": false
  }
 },
 "nbformat": 4,
 "nbformat_minor": 5
}
